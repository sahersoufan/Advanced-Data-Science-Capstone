{
 "cells": [
  {
   "attachments": {},
   "cell_type": "markdown",
   "metadata": {},
   "source": [
    "# **Dubai Estates Price Prediction** \n",
    "<p>in this project we will predict the price of <strong>Dubai</strong> estates based on studing the <strong>2022</strong> transactions.</p>\n",
    "\n",
    "## Model Training\n",
    "### Training\n",
    "\n",
    "Here we will try to fit our models that we saved from the last stage."
   ]
  },
  {
   "cell_type": "code",
   "execution_count": 1,
   "metadata": {},
   "outputs": [
    {
     "name": "stderr",
     "output_type": "stream",
     "text": [
      "c:\\Users\\ASUS\\anaconda3\\lib\\site-packages\\xgboost\\compat.py:36: FutureWarning: pandas.Int64Index is deprecated and will be removed from pandas in a future version. Use pandas.Index with the appropriate dtype instead.\n",
      "  from pandas import MultiIndex, Int64Index\n"
     ]
    }
   ],
   "source": [
    "#Models\n",
    "from sklearn.linear_model import LinearRegression, Lasso\n",
    "from sklearn.neighbors import KNeighborsRegressor\n",
    "from sklearn.ensemble import GradientBoostingRegressor\n",
    "from sklearn.ensemble import RandomForestRegressor\n",
    "import xgboost as xgb\n",
    "import tensorflow as tf\n",
    "from tensorflow import keras\n",
    "from tensorflow.keras import layers\n",
    "from tensorflow.keras.layers import Dense, Dropout\n",
    "\n",
    "#Model Selection\n",
    "from sklearn.model_selection import GridSearchCV\n",
    "from sklearn.model_selection import train_test_split\n",
    "\n",
    "#metrics\n",
    "from sklearn.metrics import r2_score\n",
    "\n",
    "import pickle\n",
    "import pandas as pd\n",
    "import matplotlib.pyplot as plt\n",
    "%matplotlib inline"
   ]
  },
  {
   "attachments": {},
   "cell_type": "markdown",
   "metadata": {},
   "source": [
    "load the dataset and divide it into train and test."
   ]
  },
  {
   "cell_type": "code",
   "execution_count": 2,
   "metadata": {},
   "outputs": [],
   "source": [
    "xTrain = pd.read_csv('data/TrainingDoneTrain.csv', index_col=[0])\n",
    "yTrain = xTrain.MeterPrice\n",
    "xTrain = xTrain.drop(['MeterPrice'], axis=1)\n",
    "\n",
    "xTest = pd.read_csv('data/TrainingDoneTest.csv', index_col=[0])\n",
    "yTest = xTest.MeterPrice\n",
    "xTest = xTest.drop(['MeterPrice'], axis=1)"
   ]
  },
  {
   "attachments": {},
   "cell_type": "markdown",
   "metadata": {},
   "source": [
    "At first we will train Linear regression model."
   ]
  },
  {
   "cell_type": "code",
   "execution_count": 32,
   "metadata": {},
   "outputs": [
    {
     "data": {
      "text/html": [
       "<style>#sk-container-id-1 {color: black;background-color: white;}#sk-container-id-1 pre{padding: 0;}#sk-container-id-1 div.sk-toggleable {background-color: white;}#sk-container-id-1 label.sk-toggleable__label {cursor: pointer;display: block;width: 100%;margin-bottom: 0;padding: 0.3em;box-sizing: border-box;text-align: center;}#sk-container-id-1 label.sk-toggleable__label-arrow:before {content: \"▸\";float: left;margin-right: 0.25em;color: #696969;}#sk-container-id-1 label.sk-toggleable__label-arrow:hover:before {color: black;}#sk-container-id-1 div.sk-estimator:hover label.sk-toggleable__label-arrow:before {color: black;}#sk-container-id-1 div.sk-toggleable__content {max-height: 0;max-width: 0;overflow: hidden;text-align: left;background-color: #f0f8ff;}#sk-container-id-1 div.sk-toggleable__content pre {margin: 0.2em;color: black;border-radius: 0.25em;background-color: #f0f8ff;}#sk-container-id-1 input.sk-toggleable__control:checked~div.sk-toggleable__content {max-height: 200px;max-width: 100%;overflow: auto;}#sk-container-id-1 input.sk-toggleable__control:checked~label.sk-toggleable__label-arrow:before {content: \"▾\";}#sk-container-id-1 div.sk-estimator input.sk-toggleable__control:checked~label.sk-toggleable__label {background-color: #d4ebff;}#sk-container-id-1 div.sk-label input.sk-toggleable__control:checked~label.sk-toggleable__label {background-color: #d4ebff;}#sk-container-id-1 input.sk-hidden--visually {border: 0;clip: rect(1px 1px 1px 1px);clip: rect(1px, 1px, 1px, 1px);height: 1px;margin: -1px;overflow: hidden;padding: 0;position: absolute;width: 1px;}#sk-container-id-1 div.sk-estimator {font-family: monospace;background-color: #f0f8ff;border: 1px dotted black;border-radius: 0.25em;box-sizing: border-box;margin-bottom: 0.5em;}#sk-container-id-1 div.sk-estimator:hover {background-color: #d4ebff;}#sk-container-id-1 div.sk-parallel-item::after {content: \"\";width: 100%;border-bottom: 1px solid gray;flex-grow: 1;}#sk-container-id-1 div.sk-label:hover label.sk-toggleable__label {background-color: #d4ebff;}#sk-container-id-1 div.sk-serial::before {content: \"\";position: absolute;border-left: 1px solid gray;box-sizing: border-box;top: 0;bottom: 0;left: 50%;z-index: 0;}#sk-container-id-1 div.sk-serial {display: flex;flex-direction: column;align-items: center;background-color: white;padding-right: 0.2em;padding-left: 0.2em;position: relative;}#sk-container-id-1 div.sk-item {position: relative;z-index: 1;}#sk-container-id-1 div.sk-parallel {display: flex;align-items: stretch;justify-content: center;background-color: white;position: relative;}#sk-container-id-1 div.sk-item::before, #sk-container-id-1 div.sk-parallel-item::before {content: \"\";position: absolute;border-left: 1px solid gray;box-sizing: border-box;top: 0;bottom: 0;left: 50%;z-index: -1;}#sk-container-id-1 div.sk-parallel-item {display: flex;flex-direction: column;z-index: 1;position: relative;background-color: white;}#sk-container-id-1 div.sk-parallel-item:first-child::after {align-self: flex-end;width: 50%;}#sk-container-id-1 div.sk-parallel-item:last-child::after {align-self: flex-start;width: 50%;}#sk-container-id-1 div.sk-parallel-item:only-child::after {width: 0;}#sk-container-id-1 div.sk-dashed-wrapped {border: 1px dashed gray;margin: 0 0.4em 0.5em 0.4em;box-sizing: border-box;padding-bottom: 0.4em;background-color: white;}#sk-container-id-1 div.sk-label label {font-family: monospace;font-weight: bold;display: inline-block;line-height: 1.2em;}#sk-container-id-1 div.sk-label-container {text-align: center;}#sk-container-id-1 div.sk-container {/* jupyter's `normalize.less` sets `[hidden] { display: none; }` but bootstrap.min.css set `[hidden] { display: none !important; }` so we also need the `!important` here to be able to override the default hidden behavior on the sphinx rendered scikit-learn.org. See: https://github.com/scikit-learn/scikit-learn/issues/21755 */display: inline-block !important;position: relative;}#sk-container-id-1 div.sk-text-repr-fallback {display: none;}</style><div id=\"sk-container-id-1\" class=\"sk-top-container\"><div class=\"sk-text-repr-fallback\"><pre>GridSearchCV(estimator=LinearRegression(), n_jobs=-1,\n",
       "             param_grid={&#x27;n_jobs&#x27;: [-1]}, scoring=&#x27;r2&#x27;)</pre><b>In a Jupyter environment, please rerun this cell to show the HTML representation or trust the notebook. <br />On GitHub, the HTML representation is unable to render, please try loading this page with nbviewer.org.</b></div><div class=\"sk-container\" hidden><div class=\"sk-item sk-dashed-wrapped\"><div class=\"sk-label-container\"><div class=\"sk-label sk-toggleable\"><input class=\"sk-toggleable__control sk-hidden--visually\" id=\"sk-estimator-id-1\" type=\"checkbox\" ><label for=\"sk-estimator-id-1\" class=\"sk-toggleable__label sk-toggleable__label-arrow\">GridSearchCV</label><div class=\"sk-toggleable__content\"><pre>GridSearchCV(estimator=LinearRegression(), n_jobs=-1,\n",
       "             param_grid={&#x27;n_jobs&#x27;: [-1]}, scoring=&#x27;r2&#x27;)</pre></div></div></div><div class=\"sk-parallel\"><div class=\"sk-parallel-item\"><div class=\"sk-item\"><div class=\"sk-label-container\"><div class=\"sk-label sk-toggleable\"><input class=\"sk-toggleable__control sk-hidden--visually\" id=\"sk-estimator-id-2\" type=\"checkbox\" ><label for=\"sk-estimator-id-2\" class=\"sk-toggleable__label sk-toggleable__label-arrow\">estimator: LinearRegression</label><div class=\"sk-toggleable__content\"><pre>LinearRegression()</pre></div></div></div><div class=\"sk-serial\"><div class=\"sk-item\"><div class=\"sk-estimator sk-toggleable\"><input class=\"sk-toggleable__control sk-hidden--visually\" id=\"sk-estimator-id-3\" type=\"checkbox\" ><label for=\"sk-estimator-id-3\" class=\"sk-toggleable__label sk-toggleable__label-arrow\">LinearRegression</label><div class=\"sk-toggleable__content\"><pre>LinearRegression()</pre></div></div></div></div></div></div></div></div></div></div>"
      ],
      "text/plain": [
       "GridSearchCV(estimator=LinearRegression(), n_jobs=-1,\n",
       "             param_grid={'n_jobs': [-1]}, scoring='r2')"
      ]
     },
     "execution_count": 32,
     "metadata": {},
     "output_type": "execute_result"
    }
   ],
   "source": [
    "lrGS = pickle.load(open('models/linearRegression.sav', 'rb'))\n",
    "lrGS.fit(xTrain, yTrain)"
   ]
  },
  {
   "cell_type": "code",
   "execution_count": 33,
   "metadata": {},
   "outputs": [
    {
     "data": {
      "text/plain": [
       "0.4944998006567115"
      ]
     },
     "execution_count": 33,
     "metadata": {},
     "output_type": "execute_result"
    }
   ],
   "source": [
    "lrGS.score(xTest, yTest)"
   ]
  },
  {
   "cell_type": "code",
   "execution_count": 34,
   "metadata": {},
   "outputs": [
    {
     "data": {
      "text/plain": [
       "0.4956348582768342"
      ]
     },
     "execution_count": 34,
     "metadata": {},
     "output_type": "execute_result"
    }
   ],
   "source": [
    "lrGS.score(xTrain, yTrain)"
   ]
  },
  {
   "attachments": {},
   "cell_type": "markdown",
   "metadata": {},
   "source": [
    "Then we will train Lasso regression model."
   ]
  },
  {
   "cell_type": "code",
   "execution_count": 35,
   "metadata": {},
   "outputs": [
    {
     "data": {
      "text/html": [
       "<style>#sk-container-id-2 {color: black;background-color: white;}#sk-container-id-2 pre{padding: 0;}#sk-container-id-2 div.sk-toggleable {background-color: white;}#sk-container-id-2 label.sk-toggleable__label {cursor: pointer;display: block;width: 100%;margin-bottom: 0;padding: 0.3em;box-sizing: border-box;text-align: center;}#sk-container-id-2 label.sk-toggleable__label-arrow:before {content: \"▸\";float: left;margin-right: 0.25em;color: #696969;}#sk-container-id-2 label.sk-toggleable__label-arrow:hover:before {color: black;}#sk-container-id-2 div.sk-estimator:hover label.sk-toggleable__label-arrow:before {color: black;}#sk-container-id-2 div.sk-toggleable__content {max-height: 0;max-width: 0;overflow: hidden;text-align: left;background-color: #f0f8ff;}#sk-container-id-2 div.sk-toggleable__content pre {margin: 0.2em;color: black;border-radius: 0.25em;background-color: #f0f8ff;}#sk-container-id-2 input.sk-toggleable__control:checked~div.sk-toggleable__content {max-height: 200px;max-width: 100%;overflow: auto;}#sk-container-id-2 input.sk-toggleable__control:checked~label.sk-toggleable__label-arrow:before {content: \"▾\";}#sk-container-id-2 div.sk-estimator input.sk-toggleable__control:checked~label.sk-toggleable__label {background-color: #d4ebff;}#sk-container-id-2 div.sk-label input.sk-toggleable__control:checked~label.sk-toggleable__label {background-color: #d4ebff;}#sk-container-id-2 input.sk-hidden--visually {border: 0;clip: rect(1px 1px 1px 1px);clip: rect(1px, 1px, 1px, 1px);height: 1px;margin: -1px;overflow: hidden;padding: 0;position: absolute;width: 1px;}#sk-container-id-2 div.sk-estimator {font-family: monospace;background-color: #f0f8ff;border: 1px dotted black;border-radius: 0.25em;box-sizing: border-box;margin-bottom: 0.5em;}#sk-container-id-2 div.sk-estimator:hover {background-color: #d4ebff;}#sk-container-id-2 div.sk-parallel-item::after {content: \"\";width: 100%;border-bottom: 1px solid gray;flex-grow: 1;}#sk-container-id-2 div.sk-label:hover label.sk-toggleable__label {background-color: #d4ebff;}#sk-container-id-2 div.sk-serial::before {content: \"\";position: absolute;border-left: 1px solid gray;box-sizing: border-box;top: 0;bottom: 0;left: 50%;z-index: 0;}#sk-container-id-2 div.sk-serial {display: flex;flex-direction: column;align-items: center;background-color: white;padding-right: 0.2em;padding-left: 0.2em;position: relative;}#sk-container-id-2 div.sk-item {position: relative;z-index: 1;}#sk-container-id-2 div.sk-parallel {display: flex;align-items: stretch;justify-content: center;background-color: white;position: relative;}#sk-container-id-2 div.sk-item::before, #sk-container-id-2 div.sk-parallel-item::before {content: \"\";position: absolute;border-left: 1px solid gray;box-sizing: border-box;top: 0;bottom: 0;left: 50%;z-index: -1;}#sk-container-id-2 div.sk-parallel-item {display: flex;flex-direction: column;z-index: 1;position: relative;background-color: white;}#sk-container-id-2 div.sk-parallel-item:first-child::after {align-self: flex-end;width: 50%;}#sk-container-id-2 div.sk-parallel-item:last-child::after {align-self: flex-start;width: 50%;}#sk-container-id-2 div.sk-parallel-item:only-child::after {width: 0;}#sk-container-id-2 div.sk-dashed-wrapped {border: 1px dashed gray;margin: 0 0.4em 0.5em 0.4em;box-sizing: border-box;padding-bottom: 0.4em;background-color: white;}#sk-container-id-2 div.sk-label label {font-family: monospace;font-weight: bold;display: inline-block;line-height: 1.2em;}#sk-container-id-2 div.sk-label-container {text-align: center;}#sk-container-id-2 div.sk-container {/* jupyter's `normalize.less` sets `[hidden] { display: none; }` but bootstrap.min.css set `[hidden] { display: none !important; }` so we also need the `!important` here to be able to override the default hidden behavior on the sphinx rendered scikit-learn.org. See: https://github.com/scikit-learn/scikit-learn/issues/21755 */display: inline-block !important;position: relative;}#sk-container-id-2 div.sk-text-repr-fallback {display: none;}</style><div id=\"sk-container-id-2\" class=\"sk-top-container\"><div class=\"sk-text-repr-fallback\"><pre>GridSearchCV(cv=10, estimator=Lasso(), n_jobs=-1,\n",
       "             param_grid={&#x27;alpha&#x27;: [0.0005, 0.001, 0.005],\n",
       "                         &#x27;selection&#x27;: [&#x27;cyclic&#x27;, &#x27;random&#x27;]},\n",
       "             scoring=&#x27;r2&#x27;)</pre><b>In a Jupyter environment, please rerun this cell to show the HTML representation or trust the notebook. <br />On GitHub, the HTML representation is unable to render, please try loading this page with nbviewer.org.</b></div><div class=\"sk-container\" hidden><div class=\"sk-item sk-dashed-wrapped\"><div class=\"sk-label-container\"><div class=\"sk-label sk-toggleable\"><input class=\"sk-toggleable__control sk-hidden--visually\" id=\"sk-estimator-id-4\" type=\"checkbox\" ><label for=\"sk-estimator-id-4\" class=\"sk-toggleable__label sk-toggleable__label-arrow\">GridSearchCV</label><div class=\"sk-toggleable__content\"><pre>GridSearchCV(cv=10, estimator=Lasso(), n_jobs=-1,\n",
       "             param_grid={&#x27;alpha&#x27;: [0.0005, 0.001, 0.005],\n",
       "                         &#x27;selection&#x27;: [&#x27;cyclic&#x27;, &#x27;random&#x27;]},\n",
       "             scoring=&#x27;r2&#x27;)</pre></div></div></div><div class=\"sk-parallel\"><div class=\"sk-parallel-item\"><div class=\"sk-item\"><div class=\"sk-label-container\"><div class=\"sk-label sk-toggleable\"><input class=\"sk-toggleable__control sk-hidden--visually\" id=\"sk-estimator-id-5\" type=\"checkbox\" ><label for=\"sk-estimator-id-5\" class=\"sk-toggleable__label sk-toggleable__label-arrow\">estimator: Lasso</label><div class=\"sk-toggleable__content\"><pre>Lasso()</pre></div></div></div><div class=\"sk-serial\"><div class=\"sk-item\"><div class=\"sk-estimator sk-toggleable\"><input class=\"sk-toggleable__control sk-hidden--visually\" id=\"sk-estimator-id-6\" type=\"checkbox\" ><label for=\"sk-estimator-id-6\" class=\"sk-toggleable__label sk-toggleable__label-arrow\">Lasso</label><div class=\"sk-toggleable__content\"><pre>Lasso()</pre></div></div></div></div></div></div></div></div></div></div>"
      ],
      "text/plain": [
       "GridSearchCV(cv=10, estimator=Lasso(), n_jobs=-1,\n",
       "             param_grid={'alpha': [0.0005, 0.001, 0.005],\n",
       "                         'selection': ['cyclic', 'random']},\n",
       "             scoring='r2')"
      ]
     },
     "execution_count": 35,
     "metadata": {},
     "output_type": "execute_result"
    }
   ],
   "source": [
    "lassoGS = pickle.load(open('models/lassoRegression.sav', 'rb'))\n",
    "lassoGS.fit(xTrain, yTrain)"
   ]
  },
  {
   "cell_type": "code",
   "execution_count": 36,
   "metadata": {},
   "outputs": [
    {
     "data": {
      "text/plain": [
       "0.4943950175047427"
      ]
     },
     "execution_count": 36,
     "metadata": {},
     "output_type": "execute_result"
    }
   ],
   "source": [
    "lassoGS.score(xTest, yTest)"
   ]
  },
  {
   "cell_type": "code",
   "execution_count": 37,
   "metadata": {},
   "outputs": [
    {
     "data": {
      "text/plain": [
       "0.4955472170079176"
      ]
     },
     "execution_count": 37,
     "metadata": {},
     "output_type": "execute_result"
    }
   ],
   "source": [
    "lassoGS.score(xTrain, yTrain)"
   ]
  },
  {
   "cell_type": "code",
   "execution_count": 38,
   "metadata": {},
   "outputs": [
    {
     "data": {
      "text/plain": [
       "{'alpha': 0.0005, 'selection': 'random'}"
      ]
     },
     "execution_count": 38,
     "metadata": {},
     "output_type": "execute_result"
    }
   ],
   "source": [
    "lassoGS.best_params_"
   ]
  },
  {
   "attachments": {},
   "cell_type": "markdown",
   "metadata": {},
   "source": [
    "The first view on their result, it's bad so we wont save thos models for the evaluation stage.\n",
    "\n",
    "The next model to train is KNN (KNearest Nieghbors)"
   ]
  },
  {
   "cell_type": "code",
   "execution_count": 107,
   "metadata": {},
   "outputs": [
    {
     "data": {
      "text/html": [
       "<style>#sk-container-id-5 {color: black;background-color: white;}#sk-container-id-5 pre{padding: 0;}#sk-container-id-5 div.sk-toggleable {background-color: white;}#sk-container-id-5 label.sk-toggleable__label {cursor: pointer;display: block;width: 100%;margin-bottom: 0;padding: 0.3em;box-sizing: border-box;text-align: center;}#sk-container-id-5 label.sk-toggleable__label-arrow:before {content: \"▸\";float: left;margin-right: 0.25em;color: #696969;}#sk-container-id-5 label.sk-toggleable__label-arrow:hover:before {color: black;}#sk-container-id-5 div.sk-estimator:hover label.sk-toggleable__label-arrow:before {color: black;}#sk-container-id-5 div.sk-toggleable__content {max-height: 0;max-width: 0;overflow: hidden;text-align: left;background-color: #f0f8ff;}#sk-container-id-5 div.sk-toggleable__content pre {margin: 0.2em;color: black;border-radius: 0.25em;background-color: #f0f8ff;}#sk-container-id-5 input.sk-toggleable__control:checked~div.sk-toggleable__content {max-height: 200px;max-width: 100%;overflow: auto;}#sk-container-id-5 input.sk-toggleable__control:checked~label.sk-toggleable__label-arrow:before {content: \"▾\";}#sk-container-id-5 div.sk-estimator input.sk-toggleable__control:checked~label.sk-toggleable__label {background-color: #d4ebff;}#sk-container-id-5 div.sk-label input.sk-toggleable__control:checked~label.sk-toggleable__label {background-color: #d4ebff;}#sk-container-id-5 input.sk-hidden--visually {border: 0;clip: rect(1px 1px 1px 1px);clip: rect(1px, 1px, 1px, 1px);height: 1px;margin: -1px;overflow: hidden;padding: 0;position: absolute;width: 1px;}#sk-container-id-5 div.sk-estimator {font-family: monospace;background-color: #f0f8ff;border: 1px dotted black;border-radius: 0.25em;box-sizing: border-box;margin-bottom: 0.5em;}#sk-container-id-5 div.sk-estimator:hover {background-color: #d4ebff;}#sk-container-id-5 div.sk-parallel-item::after {content: \"\";width: 100%;border-bottom: 1px solid gray;flex-grow: 1;}#sk-container-id-5 div.sk-label:hover label.sk-toggleable__label {background-color: #d4ebff;}#sk-container-id-5 div.sk-serial::before {content: \"\";position: absolute;border-left: 1px solid gray;box-sizing: border-box;top: 0;bottom: 0;left: 50%;z-index: 0;}#sk-container-id-5 div.sk-serial {display: flex;flex-direction: column;align-items: center;background-color: white;padding-right: 0.2em;padding-left: 0.2em;position: relative;}#sk-container-id-5 div.sk-item {position: relative;z-index: 1;}#sk-container-id-5 div.sk-parallel {display: flex;align-items: stretch;justify-content: center;background-color: white;position: relative;}#sk-container-id-5 div.sk-item::before, #sk-container-id-5 div.sk-parallel-item::before {content: \"\";position: absolute;border-left: 1px solid gray;box-sizing: border-box;top: 0;bottom: 0;left: 50%;z-index: -1;}#sk-container-id-5 div.sk-parallel-item {display: flex;flex-direction: column;z-index: 1;position: relative;background-color: white;}#sk-container-id-5 div.sk-parallel-item:first-child::after {align-self: flex-end;width: 50%;}#sk-container-id-5 div.sk-parallel-item:last-child::after {align-self: flex-start;width: 50%;}#sk-container-id-5 div.sk-parallel-item:only-child::after {width: 0;}#sk-container-id-5 div.sk-dashed-wrapped {border: 1px dashed gray;margin: 0 0.4em 0.5em 0.4em;box-sizing: border-box;padding-bottom: 0.4em;background-color: white;}#sk-container-id-5 div.sk-label label {font-family: monospace;font-weight: bold;display: inline-block;line-height: 1.2em;}#sk-container-id-5 div.sk-label-container {text-align: center;}#sk-container-id-5 div.sk-container {/* jupyter's `normalize.less` sets `[hidden] { display: none; }` but bootstrap.min.css set `[hidden] { display: none !important; }` so we also need the `!important` here to be able to override the default hidden behavior on the sphinx rendered scikit-learn.org. See: https://github.com/scikit-learn/scikit-learn/issues/21755 */display: inline-block !important;position: relative;}#sk-container-id-5 div.sk-text-repr-fallback {display: none;}</style><div id=\"sk-container-id-5\" class=\"sk-top-container\"><div class=\"sk-text-repr-fallback\"><pre>GridSearchCV(cv=10, estimator=KNeighborsRegressor(n_jobs=-1, p=1),\n",
       "             param_grid={&#x27;n_neighbors&#x27;: [100, 250, 300, 400],\n",
       "                         &#x27;weights&#x27;: [&#x27;distance&#x27;]},\n",
       "             scoring=&#x27;r2&#x27;)</pre><b>In a Jupyter environment, please rerun this cell to show the HTML representation or trust the notebook. <br />On GitHub, the HTML representation is unable to render, please try loading this page with nbviewer.org.</b></div><div class=\"sk-container\" hidden><div class=\"sk-item sk-dashed-wrapped\"><div class=\"sk-label-container\"><div class=\"sk-label sk-toggleable\"><input class=\"sk-toggleable__control sk-hidden--visually\" id=\"sk-estimator-id-13\" type=\"checkbox\" ><label for=\"sk-estimator-id-13\" class=\"sk-toggleable__label sk-toggleable__label-arrow\">GridSearchCV</label><div class=\"sk-toggleable__content\"><pre>GridSearchCV(cv=10, estimator=KNeighborsRegressor(n_jobs=-1, p=1),\n",
       "             param_grid={&#x27;n_neighbors&#x27;: [100, 250, 300, 400],\n",
       "                         &#x27;weights&#x27;: [&#x27;distance&#x27;]},\n",
       "             scoring=&#x27;r2&#x27;)</pre></div></div></div><div class=\"sk-parallel\"><div class=\"sk-parallel-item\"><div class=\"sk-item\"><div class=\"sk-label-container\"><div class=\"sk-label sk-toggleable\"><input class=\"sk-toggleable__control sk-hidden--visually\" id=\"sk-estimator-id-14\" type=\"checkbox\" ><label for=\"sk-estimator-id-14\" class=\"sk-toggleable__label sk-toggleable__label-arrow\">estimator: KNeighborsRegressor</label><div class=\"sk-toggleable__content\"><pre>KNeighborsRegressor(n_jobs=-1, p=1)</pre></div></div></div><div class=\"sk-serial\"><div class=\"sk-item\"><div class=\"sk-estimator sk-toggleable\"><input class=\"sk-toggleable__control sk-hidden--visually\" id=\"sk-estimator-id-15\" type=\"checkbox\" ><label for=\"sk-estimator-id-15\" class=\"sk-toggleable__label sk-toggleable__label-arrow\">KNeighborsRegressor</label><div class=\"sk-toggleable__content\"><pre>KNeighborsRegressor(n_jobs=-1, p=1)</pre></div></div></div></div></div></div></div></div></div></div>"
      ],
      "text/plain": [
       "GridSearchCV(cv=10, estimator=KNeighborsRegressor(n_jobs=-1, p=1),\n",
       "             param_grid={'n_neighbors': [100, 250, 300, 400],\n",
       "                         'weights': ['distance']},\n",
       "             scoring='r2')"
      ]
     },
     "execution_count": 107,
     "metadata": {},
     "output_type": "execute_result"
    }
   ],
   "source": [
    "knnGS = pickle.load(open('models/KNN.sav', 'rb'))\n",
    "knnGS.fit(xTrain, yTrain)"
   ]
  },
  {
   "cell_type": "code",
   "execution_count": 108,
   "metadata": {},
   "outputs": [
    {
     "data": {
      "text/plain": [
       "0.6945448942808058"
      ]
     },
     "execution_count": 108,
     "metadata": {},
     "output_type": "execute_result"
    }
   ],
   "source": [
    "knnGS.score(xTrain, yTrain)"
   ]
  },
  {
   "cell_type": "code",
   "execution_count": 109,
   "metadata": {},
   "outputs": [
    {
     "data": {
      "text/plain": [
       "0.6721367228278514"
      ]
     },
     "execution_count": 109,
     "metadata": {},
     "output_type": "execute_result"
    }
   ],
   "source": [
    "knnGS.score(xTest, yTest)"
   ]
  },
  {
   "cell_type": "code",
   "execution_count": 110,
   "metadata": {},
   "outputs": [
    {
     "data": {
      "text/plain": [
       "{'n_neighbors': 300, 'weights': 'distance'}"
      ]
     },
     "execution_count": 110,
     "metadata": {},
     "output_type": "execute_result"
    }
   ],
   "source": [
    "knnGS.best_params_"
   ]
  },
  {
   "cell_type": "code",
   "execution_count": 106,
   "metadata": {},
   "outputs": [],
   "source": [
    "pickle.dump(knnGS, open('models/KNNTrained.sav', 'wb'))"
   ]
  },
  {
   "attachments": {},
   "cell_type": "markdown",
   "metadata": {},
   "source": [
    "We saved knn model, its result good.\n",
    "\n",
    "Next with XGBoost"
   ]
  },
  {
   "cell_type": "code",
   "execution_count": 3,
   "metadata": {},
   "outputs": [
    {
     "name": "stderr",
     "output_type": "stream",
     "text": [
      "c:\\Users\\ASUS\\anaconda3\\lib\\site-packages\\xgboost\\data.py:250: FutureWarning: pandas.Int64Index is deprecated and will be removed from pandas in a future version. Use pandas.Index with the appropriate dtype instead.\n",
      "  elif isinstance(data.columns, (pd.Int64Index, pd.RangeIndex)):\n"
     ]
    },
    {
     "data": {
      "text/html": [
       "<style>#sk-container-id-1 {color: black;background-color: white;}#sk-container-id-1 pre{padding: 0;}#sk-container-id-1 div.sk-toggleable {background-color: white;}#sk-container-id-1 label.sk-toggleable__label {cursor: pointer;display: block;width: 100%;margin-bottom: 0;padding: 0.3em;box-sizing: border-box;text-align: center;}#sk-container-id-1 label.sk-toggleable__label-arrow:before {content: \"▸\";float: left;margin-right: 0.25em;color: #696969;}#sk-container-id-1 label.sk-toggleable__label-arrow:hover:before {color: black;}#sk-container-id-1 div.sk-estimator:hover label.sk-toggleable__label-arrow:before {color: black;}#sk-container-id-1 div.sk-toggleable__content {max-height: 0;max-width: 0;overflow: hidden;text-align: left;background-color: #f0f8ff;}#sk-container-id-1 div.sk-toggleable__content pre {margin: 0.2em;color: black;border-radius: 0.25em;background-color: #f0f8ff;}#sk-container-id-1 input.sk-toggleable__control:checked~div.sk-toggleable__content {max-height: 200px;max-width: 100%;overflow: auto;}#sk-container-id-1 input.sk-toggleable__control:checked~label.sk-toggleable__label-arrow:before {content: \"▾\";}#sk-container-id-1 div.sk-estimator input.sk-toggleable__control:checked~label.sk-toggleable__label {background-color: #d4ebff;}#sk-container-id-1 div.sk-label input.sk-toggleable__control:checked~label.sk-toggleable__label {background-color: #d4ebff;}#sk-container-id-1 input.sk-hidden--visually {border: 0;clip: rect(1px 1px 1px 1px);clip: rect(1px, 1px, 1px, 1px);height: 1px;margin: -1px;overflow: hidden;padding: 0;position: absolute;width: 1px;}#sk-container-id-1 div.sk-estimator {font-family: monospace;background-color: #f0f8ff;border: 1px dotted black;border-radius: 0.25em;box-sizing: border-box;margin-bottom: 0.5em;}#sk-container-id-1 div.sk-estimator:hover {background-color: #d4ebff;}#sk-container-id-1 div.sk-parallel-item::after {content: \"\";width: 100%;border-bottom: 1px solid gray;flex-grow: 1;}#sk-container-id-1 div.sk-label:hover label.sk-toggleable__label {background-color: #d4ebff;}#sk-container-id-1 div.sk-serial::before {content: \"\";position: absolute;border-left: 1px solid gray;box-sizing: border-box;top: 0;bottom: 0;left: 50%;z-index: 0;}#sk-container-id-1 div.sk-serial {display: flex;flex-direction: column;align-items: center;background-color: white;padding-right: 0.2em;padding-left: 0.2em;position: relative;}#sk-container-id-1 div.sk-item {position: relative;z-index: 1;}#sk-container-id-1 div.sk-parallel {display: flex;align-items: stretch;justify-content: center;background-color: white;position: relative;}#sk-container-id-1 div.sk-item::before, #sk-container-id-1 div.sk-parallel-item::before {content: \"\";position: absolute;border-left: 1px solid gray;box-sizing: border-box;top: 0;bottom: 0;left: 50%;z-index: -1;}#sk-container-id-1 div.sk-parallel-item {display: flex;flex-direction: column;z-index: 1;position: relative;background-color: white;}#sk-container-id-1 div.sk-parallel-item:first-child::after {align-self: flex-end;width: 50%;}#sk-container-id-1 div.sk-parallel-item:last-child::after {align-self: flex-start;width: 50%;}#sk-container-id-1 div.sk-parallel-item:only-child::after {width: 0;}#sk-container-id-1 div.sk-dashed-wrapped {border: 1px dashed gray;margin: 0 0.4em 0.5em 0.4em;box-sizing: border-box;padding-bottom: 0.4em;background-color: white;}#sk-container-id-1 div.sk-label label {font-family: monospace;font-weight: bold;display: inline-block;line-height: 1.2em;}#sk-container-id-1 div.sk-label-container {text-align: center;}#sk-container-id-1 div.sk-container {/* jupyter's `normalize.less` sets `[hidden] { display: none; }` but bootstrap.min.css set `[hidden] { display: none !important; }` so we also need the `!important` here to be able to override the default hidden behavior on the sphinx rendered scikit-learn.org. See: https://github.com/scikit-learn/scikit-learn/issues/21755 */display: inline-block !important;position: relative;}#sk-container-id-1 div.sk-text-repr-fallback {display: none;}</style><div id=\"sk-container-id-1\" class=\"sk-top-container\"><div class=\"sk-text-repr-fallback\"><pre>GridSearchCV(cv=10,\n",
       "             estimator=XGBRegressor(base_score=None, booster=None,\n",
       "                                    colsample_bylevel=None,\n",
       "                                    colsample_bynode=None,\n",
       "                                    colsample_bytree=None,\n",
       "                                    enable_categorical=False, gamma=None,\n",
       "                                    gpu_id=None, importance_type=None,\n",
       "                                    interaction_constraints=None,\n",
       "                                    learning_rate=None, max_delta_step=None,\n",
       "                                    max_depth=None, min_child_weight=None,\n",
       "                                    missing=nan, monotone_constraints=None,\n",
       "                                    n_estimators=100, n_jobs=None,\n",
       "                                    num_parallel_tree=None, predictor=None,\n",
       "                                    random_state=None, reg_alpha=None,\n",
       "                                    reg_lambda=None, scale_pos_weight=None,\n",
       "                                    subsample=None, tree_method=None,\n",
       "                                    validate_parameters=None, verbosity=0),\n",
       "             n_jobs=-1,\n",
       "             param_grid={&#x27;alpha&#x27;: [1, 0], &#x27;booster&#x27;: [&#x27;gbtree&#x27;, &#x27;gblinear&#x27;],\n",
       "                         &#x27;lambda&#x27;: [1, 0], &#x27;rta&#x27;: [0.1, 0.3, 0.5],\n",
       "                         &#x27;sampling_method&#x27;: [&#x27;uniform&#x27;, &#x27;gradient_based&#x27;]},\n",
       "             scoring=&#x27;r2&#x27;)</pre><b>In a Jupyter environment, please rerun this cell to show the HTML representation or trust the notebook. <br />On GitHub, the HTML representation is unable to render, please try loading this page with nbviewer.org.</b></div><div class=\"sk-container\" hidden><div class=\"sk-item sk-dashed-wrapped\"><div class=\"sk-label-container\"><div class=\"sk-label sk-toggleable\"><input class=\"sk-toggleable__control sk-hidden--visually\" id=\"sk-estimator-id-1\" type=\"checkbox\" ><label for=\"sk-estimator-id-1\" class=\"sk-toggleable__label sk-toggleable__label-arrow\">GridSearchCV</label><div class=\"sk-toggleable__content\"><pre>GridSearchCV(cv=10,\n",
       "             estimator=XGBRegressor(base_score=None, booster=None,\n",
       "                                    colsample_bylevel=None,\n",
       "                                    colsample_bynode=None,\n",
       "                                    colsample_bytree=None,\n",
       "                                    enable_categorical=False, gamma=None,\n",
       "                                    gpu_id=None, importance_type=None,\n",
       "                                    interaction_constraints=None,\n",
       "                                    learning_rate=None, max_delta_step=None,\n",
       "                                    max_depth=None, min_child_weight=None,\n",
       "                                    missing=nan, monotone_constraints=None,\n",
       "                                    n_estimators=100, n_jobs=None,\n",
       "                                    num_parallel_tree=None, predictor=None,\n",
       "                                    random_state=None, reg_alpha=None,\n",
       "                                    reg_lambda=None, scale_pos_weight=None,\n",
       "                                    subsample=None, tree_method=None,\n",
       "                                    validate_parameters=None, verbosity=0),\n",
       "             n_jobs=-1,\n",
       "             param_grid={&#x27;alpha&#x27;: [1, 0], &#x27;booster&#x27;: [&#x27;gbtree&#x27;, &#x27;gblinear&#x27;],\n",
       "                         &#x27;lambda&#x27;: [1, 0], &#x27;rta&#x27;: [0.1, 0.3, 0.5],\n",
       "                         &#x27;sampling_method&#x27;: [&#x27;uniform&#x27;, &#x27;gradient_based&#x27;]},\n",
       "             scoring=&#x27;r2&#x27;)</pre></div></div></div><div class=\"sk-parallel\"><div class=\"sk-parallel-item\"><div class=\"sk-item\"><div class=\"sk-label-container\"><div class=\"sk-label sk-toggleable\"><input class=\"sk-toggleable__control sk-hidden--visually\" id=\"sk-estimator-id-2\" type=\"checkbox\" ><label for=\"sk-estimator-id-2\" class=\"sk-toggleable__label sk-toggleable__label-arrow\">estimator: XGBRegressor</label><div class=\"sk-toggleable__content\"><pre>XGBRegressor(base_score=None, booster=None, colsample_bylevel=None,\n",
       "             colsample_bynode=None, colsample_bytree=None,\n",
       "             enable_categorical=False, gamma=None, gpu_id=None,\n",
       "             importance_type=None, interaction_constraints=None,\n",
       "             learning_rate=None, max_delta_step=None, max_depth=None,\n",
       "             min_child_weight=None, missing=nan, monotone_constraints=None,\n",
       "             n_estimators=100, n_jobs=None, num_parallel_tree=None,\n",
       "             predictor=None, random_state=None, reg_alpha=None, reg_lambda=None,\n",
       "             scale_pos_weight=None, subsample=None, tree_method=None,\n",
       "             validate_parameters=None, verbosity=0)</pre></div></div></div><div class=\"sk-serial\"><div class=\"sk-item\"><div class=\"sk-estimator sk-toggleable\"><input class=\"sk-toggleable__control sk-hidden--visually\" id=\"sk-estimator-id-3\" type=\"checkbox\" ><label for=\"sk-estimator-id-3\" class=\"sk-toggleable__label sk-toggleable__label-arrow\">XGBRegressor</label><div class=\"sk-toggleable__content\"><pre>XGBRegressor(base_score=None, booster=None, colsample_bylevel=None,\n",
       "             colsample_bynode=None, colsample_bytree=None,\n",
       "             enable_categorical=False, gamma=None, gpu_id=None,\n",
       "             importance_type=None, interaction_constraints=None,\n",
       "             learning_rate=None, max_delta_step=None, max_depth=None,\n",
       "             min_child_weight=None, missing=nan, monotone_constraints=None,\n",
       "             n_estimators=100, n_jobs=None, num_parallel_tree=None,\n",
       "             predictor=None, random_state=None, reg_alpha=None, reg_lambda=None,\n",
       "             scale_pos_weight=None, subsample=None, tree_method=None,\n",
       "             validate_parameters=None, verbosity=0)</pre></div></div></div></div></div></div></div></div></div></div>"
      ],
      "text/plain": [
       "GridSearchCV(cv=10,\n",
       "             estimator=XGBRegressor(base_score=None, booster=None,\n",
       "                                    colsample_bylevel=None,\n",
       "                                    colsample_bynode=None,\n",
       "                                    colsample_bytree=None,\n",
       "                                    enable_categorical=False, gamma=None,\n",
       "                                    gpu_id=None, importance_type=None,\n",
       "                                    interaction_constraints=None,\n",
       "                                    learning_rate=None, max_delta_step=None,\n",
       "                                    max_depth=None, min_child_weight=None,\n",
       "                                    missing=nan, monotone_constraints=None,\n",
       "                                    n_estimators=100, n_jobs=None,\n",
       "                                    num_parallel_tree=None, predictor=None,\n",
       "                                    random_state=None, reg_alpha=None,\n",
       "                                    reg_lambda=None, scale_pos_weight=None,\n",
       "                                    subsample=None, tree_method=None,\n",
       "                                    validate_parameters=None, verbosity=0),\n",
       "             n_jobs=-1,\n",
       "             param_grid={'alpha': [1, 0], 'booster': ['gbtree', 'gblinear'],\n",
       "                         'lambda': [1, 0], 'rta': [0.1, 0.3, 0.5],\n",
       "                         'sampling_method': ['uniform', 'gradient_based']},\n",
       "             scoring='r2')"
      ]
     },
     "execution_count": 3,
     "metadata": {},
     "output_type": "execute_result"
    }
   ],
   "source": [
    "xgboostGS = pickle.load(open('models/xgboostTrained.sav', 'rb'))\n",
    "xgboostGS.fit(xTrain, yTrain)"
   ]
  },
  {
   "cell_type": "code",
   "execution_count": 4,
   "metadata": {},
   "outputs": [
    {
     "data": {
      "text/plain": [
       "0.6908185195867849"
      ]
     },
     "execution_count": 4,
     "metadata": {},
     "output_type": "execute_result"
    }
   ],
   "source": [
    "xgboostGS.score(xTrain, yTrain)"
   ]
  },
  {
   "cell_type": "code",
   "execution_count": 5,
   "metadata": {},
   "outputs": [
    {
     "data": {
      "text/plain": [
       "0.6750886031782168"
      ]
     },
     "execution_count": 5,
     "metadata": {},
     "output_type": "execute_result"
    }
   ],
   "source": [
    "xgboostGS.score(xTest, yTest)"
   ]
  },
  {
   "cell_type": "code",
   "execution_count": 114,
   "metadata": {},
   "outputs": [
    {
     "data": {
      "text/plain": [
       "{'alpha': 1,\n",
       " 'booster': 'gbtree',\n",
       " 'lambda': 0,\n",
       " 'rta': 0.1,\n",
       " 'sampling_method': 'uniform'}"
      ]
     },
     "execution_count": 114,
     "metadata": {},
     "output_type": "execute_result"
    }
   ],
   "source": [
    "xgboostGS.best_params_"
   ]
  },
  {
   "cell_type": "code",
   "execution_count": 6,
   "metadata": {},
   "outputs": [],
   "source": [
    "pickle.dump(xgboostGS, open('models/XGboostTrained.sav', 'wb'))"
   ]
  },
  {
   "attachments": {},
   "cell_type": "markdown",
   "metadata": {},
   "source": [
    "As knn xgboost give good result abd we saved it.\n",
    "\n",
    "Next we will try Random Forest for Regression"
   ]
  },
  {
   "cell_type": "code",
   "execution_count": 118,
   "metadata": {},
   "outputs": [
    {
     "name": "stderr",
     "output_type": "stream",
     "text": [
      "c:\\Users\\ASUS\\anaconda3\\lib\\site-packages\\sklearn\\model_selection\\_search.py:910: DataConversionWarning: A column-vector y was passed when a 1d array was expected. Please change the shape of y to (n_samples,), for example using ravel().\n",
      "  self.best_estimator_.fit(X, y, **fit_params)\n"
     ]
    },
    {
     "data": {
      "text/plain": [
       "0.6938420535728036"
      ]
     },
     "execution_count": 118,
     "metadata": {},
     "output_type": "execute_result"
    }
   ],
   "source": [
    "rtr = pickle.load(open('models/rtr.sav', 'rb')) \n",
    "rtr.fit(xTrain,yTrain)\n",
    "rtr.score(xTrain, yTrain)"
   ]
  },
  {
   "cell_type": "code",
   "execution_count": 119,
   "metadata": {},
   "outputs": [
    {
     "data": {
      "text/plain": [
       "0.6748829053253991"
      ]
     },
     "execution_count": 119,
     "metadata": {},
     "output_type": "execute_result"
    }
   ],
   "source": [
    "rtr.score(xTest, yTest)"
   ]
  },
  {
   "cell_type": "code",
   "execution_count": 87,
   "metadata": {},
   "outputs": [
    {
     "data": {
      "text/plain": [
       "{'max_features': 'sqrt', 'n_estimators': 100}"
      ]
     },
     "execution_count": 87,
     "metadata": {},
     "output_type": "execute_result"
    }
   ],
   "source": [
    "rtr.best_params_"
   ]
  },
  {
   "cell_type": "code",
   "execution_count": 139,
   "metadata": {},
   "outputs": [],
   "source": [
    "pickle.dump(rtr, open('models/rtrTrained.sav', 'wb'))"
   ]
  },
  {
   "attachments": {},
   "cell_type": "markdown",
   "metadata": {},
   "source": [
    "Also give prety result, we saved it.\n",
    "\n",
    "Next we will try work with Neural Networks\n",
    "\n",
    "Starting with 64 units in one hidden layer."
   ]
  },
  {
   "cell_type": "code",
   "execution_count": 123,
   "metadata": {},
   "outputs": [
    {
     "name": "stdout",
     "output_type": "stream",
     "text": [
      "Model: \"sequential\"\n",
      "_________________________________________________________________\n",
      " Layer (type)                Output Shape              Param #   \n",
      "=================================================================\n",
      " dense (Dense)               (None, 64)                1856      \n",
      "                                                                 \n",
      " dropout (Dropout)           (None, 64)                0         \n",
      "                                                                 \n",
      " dense_1 (Dense)             (None, 1)                 65        \n",
      "                                                                 \n",
      "=================================================================\n",
      "Total params: 1,921\n",
      "Trainable params: 1,921\n",
      "Non-trainable params: 0\n",
      "_________________________________________________________________\n"
     ]
    }
   ],
   "source": [
    "nn64 = keras.models.load_model('models/nn64')\n",
    "nn64.summary()"
   ]
  },
  {
   "cell_type": "code",
   "execution_count": 124,
   "metadata": {},
   "outputs": [
    {
     "name": "stdout",
     "output_type": "stream",
     "text": [
      "Epoch 1/100\n",
      "1134/1134 [==============================] - 6s 4ms/step - loss: 12.2079 - mean_squared_error: 12.2079 - val_loss: 0.3667 - val_mean_squared_error: 0.3667\n",
      "Epoch 2/100\n",
      "1134/1134 [==============================] - 4s 3ms/step - loss: 1.1489 - mean_squared_error: 1.1489 - val_loss: 0.2839 - val_mean_squared_error: 0.2839\n",
      "Epoch 3/100\n",
      "1134/1134 [==============================] - 4s 3ms/step - loss: 0.9853 - mean_squared_error: 0.9853 - val_loss: 0.2537 - val_mean_squared_error: 0.2537\n",
      "Epoch 4/100\n",
      "1134/1134 [==============================] - 4s 3ms/step - loss: 0.8745 - mean_squared_error: 0.8745 - val_loss: 0.2542 - val_mean_squared_error: 0.2542\n",
      "Epoch 5/100\n",
      "1134/1134 [==============================] - 4s 4ms/step - loss: 0.7964 - mean_squared_error: 0.7964 - val_loss: 0.2516 - val_mean_squared_error: 0.2516\n",
      "Epoch 6/100\n",
      "1134/1134 [==============================] - 4s 3ms/step - loss: 0.7271 - mean_squared_error: 0.7271 - val_loss: 0.2370 - val_mean_squared_error: 0.2370\n",
      "Epoch 7/100\n",
      "1134/1134 [==============================] - 4s 3ms/step - loss: 0.6623 - mean_squared_error: 0.6623 - val_loss: 0.2328 - val_mean_squared_error: 0.2328\n",
      "Epoch 8/100\n",
      "1134/1134 [==============================] - 4s 3ms/step - loss: 0.6060 - mean_squared_error: 0.6060 - val_loss: 0.2266 - val_mean_squared_error: 0.2266\n",
      "Epoch 9/100\n",
      "1134/1134 [==============================] - 4s 3ms/step - loss: 0.5441 - mean_squared_error: 0.5441 - val_loss: 0.2256 - val_mean_squared_error: 0.2256\n",
      "Epoch 10/100\n",
      "1134/1134 [==============================] - 4s 3ms/step - loss: 0.5038 - mean_squared_error: 0.5038 - val_loss: 0.2210 - val_mean_squared_error: 0.2210\n",
      "Epoch 11/100\n",
      "1134/1134 [==============================] - 5s 5ms/step - loss: 0.4675 - mean_squared_error: 0.4675 - val_loss: 0.2251 - val_mean_squared_error: 0.2251\n",
      "Epoch 12/100\n",
      "1134/1134 [==============================] - 5s 4ms/step - loss: 0.4357 - mean_squared_error: 0.4357 - val_loss: 0.2189 - val_mean_squared_error: 0.2189\n",
      "Epoch 13/100\n",
      "1134/1134 [==============================] - 4s 4ms/step - loss: 0.4073 - mean_squared_error: 0.4073 - val_loss: 0.2165 - val_mean_squared_error: 0.2165\n",
      "Epoch 14/100\n",
      "1134/1134 [==============================] - 5s 4ms/step - loss: 0.3771 - mean_squared_error: 0.3771 - val_loss: 0.2146 - val_mean_squared_error: 0.2146\n",
      "Epoch 15/100\n",
      "1134/1134 [==============================] - 4s 3ms/step - loss: 0.3571 - mean_squared_error: 0.3571 - val_loss: 0.2128 - val_mean_squared_error: 0.2128\n",
      "Epoch 16/100\n",
      "1134/1134 [==============================] - 4s 4ms/step - loss: 0.3372 - mean_squared_error: 0.3372 - val_loss: 0.2130 - val_mean_squared_error: 0.2130\n",
      "Epoch 17/100\n",
      "1134/1134 [==============================] - 4s 3ms/step - loss: 0.3185 - mean_squared_error: 0.3185 - val_loss: 0.2153 - val_mean_squared_error: 0.2153\n",
      "Epoch 18/100\n",
      "1134/1134 [==============================] - 4s 3ms/step - loss: 0.3026 - mean_squared_error: 0.3026 - val_loss: 0.2108 - val_mean_squared_error: 0.2108\n",
      "Epoch 19/100\n",
      "1134/1134 [==============================] - 4s 3ms/step - loss: 0.2897 - mean_squared_error: 0.2897 - val_loss: 0.2116 - val_mean_squared_error: 0.2116\n",
      "Epoch 20/100\n",
      "1134/1134 [==============================] - 4s 3ms/step - loss: 0.2764 - mean_squared_error: 0.2764 - val_loss: 0.2096 - val_mean_squared_error: 0.2096\n",
      "Epoch 21/100\n",
      "1134/1134 [==============================] - 4s 4ms/step - loss: 0.2655 - mean_squared_error: 0.2655 - val_loss: 0.2109 - val_mean_squared_error: 0.2109\n",
      "Epoch 22/100\n",
      "1134/1134 [==============================] - 4s 3ms/step - loss: 0.2564 - mean_squared_error: 0.2564 - val_loss: 0.2102 - val_mean_squared_error: 0.2102\n",
      "Epoch 23/100\n",
      "1134/1134 [==============================] - 4s 3ms/step - loss: 0.2486 - mean_squared_error: 0.2486 - val_loss: 0.2092 - val_mean_squared_error: 0.2092\n",
      "Epoch 24/100\n",
      "1134/1134 [==============================] - 4s 3ms/step - loss: 0.2410 - mean_squared_error: 0.2410 - val_loss: 0.2106 - val_mean_squared_error: 0.2106\n",
      "Epoch 25/100\n",
      "1134/1134 [==============================] - 5s 4ms/step - loss: 0.2374 - mean_squared_error: 0.2374 - val_loss: 0.2108 - val_mean_squared_error: 0.2108\n",
      "Epoch 26/100\n",
      "1134/1134 [==============================] - 4s 3ms/step - loss: 0.2320 - mean_squared_error: 0.2320 - val_loss: 0.2091 - val_mean_squared_error: 0.2091\n",
      "Epoch 27/100\n",
      "1134/1134 [==============================] - 4s 3ms/step - loss: 0.2286 - mean_squared_error: 0.2286 - val_loss: 0.2086 - val_mean_squared_error: 0.2086\n",
      "Epoch 28/100\n",
      "1134/1134 [==============================] - 4s 3ms/step - loss: 0.2241 - mean_squared_error: 0.2241 - val_loss: 0.2094 - val_mean_squared_error: 0.2094\n",
      "Epoch 29/100\n",
      "1134/1134 [==============================] - 4s 4ms/step - loss: 0.2224 - mean_squared_error: 0.2224 - val_loss: 0.2083 - val_mean_squared_error: 0.2083\n",
      "Epoch 30/100\n",
      "1134/1134 [==============================] - 4s 3ms/step - loss: 0.2198 - mean_squared_error: 0.2198 - val_loss: 0.2068 - val_mean_squared_error: 0.2068\n",
      "Epoch 31/100\n",
      "1134/1134 [==============================] - 4s 3ms/step - loss: 0.2196 - mean_squared_error: 0.2196 - val_loss: 0.2080 - val_mean_squared_error: 0.2080\n",
      "Epoch 32/100\n",
      "1134/1134 [==============================] - 4s 3ms/step - loss: 0.2169 - mean_squared_error: 0.2169 - val_loss: 0.2101 - val_mean_squared_error: 0.2101\n",
      "Epoch 33/100\n",
      "1134/1134 [==============================] - 4s 4ms/step - loss: 0.2179 - mean_squared_error: 0.2179 - val_loss: 0.2084 - val_mean_squared_error: 0.2084\n",
      "Epoch 34/100\n",
      "1134/1134 [==============================] - 3s 3ms/step - loss: 0.2165 - mean_squared_error: 0.2165 - val_loss: 0.2070 - val_mean_squared_error: 0.2070\n",
      "Epoch 35/100\n",
      "1134/1134 [==============================] - 4s 3ms/step - loss: 0.2144 - mean_squared_error: 0.2144 - val_loss: 0.2062 - val_mean_squared_error: 0.2062\n",
      "Epoch 36/100\n",
      "1134/1134 [==============================] - 4s 3ms/step - loss: 0.2130 - mean_squared_error: 0.2130 - val_loss: 0.2048 - val_mean_squared_error: 0.2048\n",
      "Epoch 37/100\n",
      "1134/1134 [==============================] - 4s 3ms/step - loss: 0.2136 - mean_squared_error: 0.2136 - val_loss: 0.2060 - val_mean_squared_error: 0.2060\n",
      "Epoch 38/100\n",
      "1134/1134 [==============================] - 4s 3ms/step - loss: 0.2120 - mean_squared_error: 0.2120 - val_loss: 0.2042 - val_mean_squared_error: 0.2042\n",
      "Epoch 39/100\n",
      "1134/1134 [==============================] - 4s 3ms/step - loss: 0.2109 - mean_squared_error: 0.2109 - val_loss: 0.2052 - val_mean_squared_error: 0.2052\n",
      "Epoch 40/100\n",
      "1134/1134 [==============================] - 4s 3ms/step - loss: 0.2109 - mean_squared_error: 0.2109 - val_loss: 0.2069 - val_mean_squared_error: 0.2069\n",
      "Epoch 41/100\n",
      "1134/1134 [==============================] - 4s 3ms/step - loss: 0.2116 - mean_squared_error: 0.2116 - val_loss: 0.2037 - val_mean_squared_error: 0.2037\n",
      "Epoch 42/100\n",
      "1134/1134 [==============================] - 4s 4ms/step - loss: 0.2105 - mean_squared_error: 0.2105 - val_loss: 0.2043 - val_mean_squared_error: 0.2043\n",
      "Epoch 43/100\n",
      "1134/1134 [==============================] - 4s 3ms/step - loss: 0.2106 - mean_squared_error: 0.2106 - val_loss: 0.2048 - val_mean_squared_error: 0.2048\n",
      "Epoch 44/100\n",
      "1134/1134 [==============================] - 4s 3ms/step - loss: 0.2092 - mean_squared_error: 0.2092 - val_loss: 0.2051 - val_mean_squared_error: 0.2051\n",
      "Epoch 45/100\n",
      "1134/1134 [==============================] - 3s 3ms/step - loss: 0.2082 - mean_squared_error: 0.2082 - val_loss: 0.2026 - val_mean_squared_error: 0.2026\n",
      "Epoch 46/100\n",
      "1134/1134 [==============================] - 4s 4ms/step - loss: 0.2081 - mean_squared_error: 0.2081 - val_loss: 0.2036 - val_mean_squared_error: 0.2036\n",
      "Epoch 47/100\n",
      "1134/1134 [==============================] - 4s 3ms/step - loss: 0.2073 - mean_squared_error: 0.2073 - val_loss: 0.2038 - val_mean_squared_error: 0.2038\n",
      "Epoch 48/100\n",
      "1134/1134 [==============================] - 4s 3ms/step - loss: 0.2066 - mean_squared_error: 0.2066 - val_loss: 0.2029 - val_mean_squared_error: 0.2029\n",
      "Epoch 49/100\n",
      "1134/1134 [==============================] - 4s 3ms/step - loss: 0.2069 - mean_squared_error: 0.2069 - val_loss: 0.2020 - val_mean_squared_error: 0.2020\n",
      "Epoch 50/100\n",
      "1134/1134 [==============================] - 4s 3ms/step - loss: 0.2082 - mean_squared_error: 0.2082 - val_loss: 0.2022 - val_mean_squared_error: 0.2022\n",
      "Epoch 51/100\n",
      "1134/1134 [==============================] - 4s 3ms/step - loss: 0.2066 - mean_squared_error: 0.2066 - val_loss: 0.2040 - val_mean_squared_error: 0.2040\n",
      "Epoch 52/100\n",
      "1134/1134 [==============================] - 3s 3ms/step - loss: 0.2075 - mean_squared_error: 0.2075 - val_loss: 0.2021 - val_mean_squared_error: 0.2021\n",
      "Epoch 53/100\n",
      "1134/1134 [==============================] - 3s 3ms/step - loss: 0.2076 - mean_squared_error: 0.2076 - val_loss: 0.2037 - val_mean_squared_error: 0.2037\n",
      "Epoch 54/100\n",
      "1134/1134 [==============================] - 4s 3ms/step - loss: 0.2065 - mean_squared_error: 0.2065 - val_loss: 0.2025 - val_mean_squared_error: 0.2025\n",
      "Epoch 55/100\n",
      "1134/1134 [==============================] - 4s 3ms/step - loss: 0.2067 - mean_squared_error: 0.2067 - val_loss: 0.2004 - val_mean_squared_error: 0.2004\n",
      "Epoch 56/100\n",
      "1134/1134 [==============================] - 4s 3ms/step - loss: 0.2053 - mean_squared_error: 0.2053 - val_loss: 0.2028 - val_mean_squared_error: 0.2028\n",
      "Epoch 57/100\n",
      "1134/1134 [==============================] - 4s 3ms/step - loss: 0.2052 - mean_squared_error: 0.2052 - val_loss: 0.2005 - val_mean_squared_error: 0.2005\n",
      "Epoch 58/100\n",
      "1134/1134 [==============================] - 4s 3ms/step - loss: 0.2048 - mean_squared_error: 0.2048 - val_loss: 0.2013 - val_mean_squared_error: 0.2013\n",
      "Epoch 59/100\n",
      "1134/1134 [==============================] - 4s 3ms/step - loss: 0.2064 - mean_squared_error: 0.2064 - val_loss: 0.1993 - val_mean_squared_error: 0.1993\n",
      "Epoch 60/100\n",
      "1134/1134 [==============================] - 4s 3ms/step - loss: 0.2048 - mean_squared_error: 0.2048 - val_loss: 0.2000 - val_mean_squared_error: 0.2000\n",
      "Epoch 61/100\n",
      "1134/1134 [==============================] - 5s 4ms/step - loss: 0.2059 - mean_squared_error: 0.2059 - val_loss: 0.1997 - val_mean_squared_error: 0.1997\n",
      "Epoch 62/100\n",
      "1134/1134 [==============================] - 4s 3ms/step - loss: 0.2039 - mean_squared_error: 0.2039 - val_loss: 0.2004 - val_mean_squared_error: 0.2004\n",
      "Epoch 63/100\n",
      "1134/1134 [==============================] - 5s 5ms/step - loss: 0.2055 - mean_squared_error: 0.2055 - val_loss: 0.1991 - val_mean_squared_error: 0.1991\n",
      "Epoch 64/100\n",
      "1134/1134 [==============================] - 4s 4ms/step - loss: 0.2053 - mean_squared_error: 0.2053 - val_loss: 0.2001 - val_mean_squared_error: 0.2001\n",
      "Epoch 65/100\n",
      "1134/1134 [==============================] - 4s 4ms/step - loss: 0.2059 - mean_squared_error: 0.2059 - val_loss: 0.1988 - val_mean_squared_error: 0.1988\n",
      "Epoch 66/100\n",
      "1134/1134 [==============================] - 4s 4ms/step - loss: 0.2047 - mean_squared_error: 0.2047 - val_loss: 0.2004 - val_mean_squared_error: 0.2004\n",
      "Epoch 67/100\n",
      "1134/1134 [==============================] - 4s 3ms/step - loss: 0.2047 - mean_squared_error: 0.2047 - val_loss: 0.2011 - val_mean_squared_error: 0.2011\n",
      "Epoch 68/100\n",
      "1134/1134 [==============================] - 4s 4ms/step - loss: 0.2046 - mean_squared_error: 0.2046 - val_loss: 0.1987 - val_mean_squared_error: 0.1987\n",
      "Epoch 69/100\n",
      "1134/1134 [==============================] - 4s 3ms/step - loss: 0.2044 - mean_squared_error: 0.2044 - val_loss: 0.1983 - val_mean_squared_error: 0.1983\n",
      "Epoch 70/100\n",
      "1134/1134 [==============================] - 4s 3ms/step - loss: 0.2043 - mean_squared_error: 0.2043 - val_loss: 0.2010 - val_mean_squared_error: 0.2010\n",
      "Epoch 71/100\n",
      "1134/1134 [==============================] - 4s 3ms/step - loss: 0.2045 - mean_squared_error: 0.2045 - val_loss: 0.2007 - val_mean_squared_error: 0.2007\n",
      "Epoch 72/100\n",
      "1134/1134 [==============================] - 4s 3ms/step - loss: 0.2045 - mean_squared_error: 0.2045 - val_loss: 0.1978 - val_mean_squared_error: 0.1978\n",
      "Epoch 73/100\n",
      "1134/1134 [==============================] - 4s 3ms/step - loss: 0.2039 - mean_squared_error: 0.2039 - val_loss: 0.1993 - val_mean_squared_error: 0.1993\n",
      "Epoch 74/100\n",
      "1134/1134 [==============================] - 4s 3ms/step - loss: 0.2049 - mean_squared_error: 0.2049 - val_loss: 0.1979 - val_mean_squared_error: 0.1979\n",
      "Epoch 75/100\n",
      "1134/1134 [==============================] - 4s 3ms/step - loss: 0.2031 - mean_squared_error: 0.2031 - val_loss: 0.1975 - val_mean_squared_error: 0.1975\n",
      "Epoch 76/100\n",
      "1134/1134 [==============================] - 4s 3ms/step - loss: 0.2029 - mean_squared_error: 0.2029 - val_loss: 0.1979 - val_mean_squared_error: 0.1979\n",
      "Epoch 77/100\n",
      "1134/1134 [==============================] - 4s 3ms/step - loss: 0.2034 - mean_squared_error: 0.2034 - val_loss: 0.1973 - val_mean_squared_error: 0.1973\n",
      "Epoch 78/100\n",
      "1134/1134 [==============================] - 4s 3ms/step - loss: 0.2030 - mean_squared_error: 0.2030 - val_loss: 0.1986 - val_mean_squared_error: 0.1986\n",
      "Epoch 79/100\n",
      "1134/1134 [==============================] - 4s 4ms/step - loss: 0.2048 - mean_squared_error: 0.2048 - val_loss: 0.1979 - val_mean_squared_error: 0.1979\n",
      "Epoch 80/100\n",
      "1134/1134 [==============================] - 4s 4ms/step - loss: 0.2034 - mean_squared_error: 0.2034 - val_loss: 0.1976 - val_mean_squared_error: 0.1976\n",
      "Epoch 81/100\n",
      "1134/1134 [==============================] - 4s 3ms/step - loss: 0.2025 - mean_squared_error: 0.2025 - val_loss: 0.1982 - val_mean_squared_error: 0.1982\n",
      "Epoch 82/100\n",
      "1134/1134 [==============================] - 4s 3ms/step - loss: 0.2019 - mean_squared_error: 0.2019 - val_loss: 0.2002 - val_mean_squared_error: 0.2002\n",
      "Epoch 83/100\n",
      "1134/1134 [==============================] - 4s 3ms/step - loss: 0.2028 - mean_squared_error: 0.2028 - val_loss: 0.2002 - val_mean_squared_error: 0.2002\n",
      "Epoch 84/100\n",
      "1134/1134 [==============================] - 4s 4ms/step - loss: 0.2022 - mean_squared_error: 0.2022 - val_loss: 0.1973 - val_mean_squared_error: 0.1973\n",
      "Epoch 85/100\n",
      "1134/1134 [==============================] - 4s 3ms/step - loss: 0.2025 - mean_squared_error: 0.2025 - val_loss: 0.1968 - val_mean_squared_error: 0.1968\n",
      "Epoch 86/100\n",
      "1134/1134 [==============================] - 4s 3ms/step - loss: 0.2019 - mean_squared_error: 0.2019 - val_loss: 0.1970 - val_mean_squared_error: 0.1970\n",
      "Epoch 87/100\n",
      "1134/1134 [==============================] - 4s 4ms/step - loss: 0.2030 - mean_squared_error: 0.2030 - val_loss: 0.1962 - val_mean_squared_error: 0.1962\n",
      "Epoch 88/100\n",
      "1134/1134 [==============================] - 4s 3ms/step - loss: 0.2024 - mean_squared_error: 0.2024 - val_loss: 0.1963 - val_mean_squared_error: 0.1963\n",
      "Epoch 89/100\n",
      "1134/1134 [==============================] - 4s 3ms/step - loss: 0.2022 - mean_squared_error: 0.2022 - val_loss: 0.1966 - val_mean_squared_error: 0.1966\n",
      "Epoch 90/100\n",
      "1134/1134 [==============================] - 4s 3ms/step - loss: 0.2026 - mean_squared_error: 0.2026 - val_loss: 0.1972 - val_mean_squared_error: 0.1972\n",
      "Epoch 91/100\n",
      "1134/1134 [==============================] - 4s 3ms/step - loss: 0.2035 - mean_squared_error: 0.2035 - val_loss: 0.1969 - val_mean_squared_error: 0.1969\n",
      "Epoch 92/100\n",
      "1134/1134 [==============================] - 4s 4ms/step - loss: 0.2025 - mean_squared_error: 0.2025 - val_loss: 0.1967 - val_mean_squared_error: 0.1967\n",
      "Epoch 93/100\n",
      "1134/1134 [==============================] - 4s 3ms/step - loss: 0.2036 - mean_squared_error: 0.2036 - val_loss: 0.1976 - val_mean_squared_error: 0.1976\n",
      "Epoch 94/100\n",
      "1134/1134 [==============================] - 4s 3ms/step - loss: 0.2021 - mean_squared_error: 0.2021 - val_loss: 0.1972 - val_mean_squared_error: 0.1972\n",
      "Epoch 95/100\n",
      "1134/1134 [==============================] - 4s 3ms/step - loss: 0.2014 - mean_squared_error: 0.2014 - val_loss: 0.1966 - val_mean_squared_error: 0.1966\n",
      "Epoch 96/100\n",
      "1134/1134 [==============================] - 4s 4ms/step - loss: 0.2016 - mean_squared_error: 0.2016 - val_loss: 0.1980 - val_mean_squared_error: 0.1980\n",
      "Epoch 97/100\n",
      "1134/1134 [==============================] - 4s 3ms/step - loss: 0.2014 - mean_squared_error: 0.2014 - val_loss: 0.1969 - val_mean_squared_error: 0.1969\n",
      "Epoch 98/100\n",
      "1134/1134 [==============================] - 4s 3ms/step - loss: 0.2021 - mean_squared_error: 0.2021 - val_loss: 0.1961 - val_mean_squared_error: 0.1961\n",
      "Epoch 99/100\n",
      "1134/1134 [==============================] - 4s 3ms/step - loss: 0.2022 - mean_squared_error: 0.2022 - val_loss: 0.1978 - val_mean_squared_error: 0.1978\n",
      "Epoch 100/100\n",
      "1134/1134 [==============================] - 4s 3ms/step - loss: 0.2013 - mean_squared_error: 0.2013 - val_loss: 0.1968 - val_mean_squared_error: 0.1968\n"
     ]
    },
    {
     "data": {
      "text/plain": [
       "<keras.callbacks.History at 0x275026e0460>"
      ]
     },
     "execution_count": 124,
     "metadata": {},
     "output_type": "execute_result"
    }
   ],
   "source": [
    "nn64.fit(xTrain, yTrain, validation_split=0.2,validation_data=(xTest, yTest), epochs=100, batch_size=64)"
   ]
  },
  {
   "cell_type": "code",
   "execution_count": 54,
   "metadata": {},
   "outputs": [
    {
     "name": "stdout",
     "output_type": "stream",
     "text": [
      "567/567 [==============================] - 1s 2ms/step - loss: 0.1831 - mean_squared_error: 0.1831\n"
     ]
    },
    {
     "data": {
      "text/plain": [
       "[0.18306727707386017, 0.18306727707386017]"
      ]
     },
     "execution_count": 54,
     "metadata": {},
     "output_type": "execute_result"
    }
   ],
   "source": [
    "nn64.evaluate(xTest, yTest)"
   ]
  },
  {
   "cell_type": "code",
   "execution_count": 125,
   "metadata": {},
   "outputs": [
    {
     "name": "stdout",
     "output_type": "stream",
     "text": [
      "2267/2267 [==============================] - 5s 2ms/step\n",
      "0.634312785978866\n",
      "567/567 [==============================] - 1s 2ms/step\n"
     ]
    },
    {
     "data": {
      "text/plain": [
       "0.6294549238580761"
      ]
     },
     "execution_count": 125,
     "metadata": {},
     "output_type": "execute_result"
    }
   ],
   "source": [
    "print(r2_score(yTrain, nn64.predict(xTrain)))\n",
    "r2_score(yTest, nn64.predict(xTest))"
   ]
  },
  {
   "cell_type": "code",
   "execution_count": 130,
   "metadata": {},
   "outputs": [
    {
     "name": "stdout",
     "output_type": "stream",
     "text": [
      "INFO:tensorflow:Assets written to: models/nn64\\assets\n"
     ]
    }
   ],
   "source": [
    "nn64.save('models/nn64')"
   ]
  },
  {
   "attachments": {},
   "cell_type": "markdown",
   "metadata": {},
   "source": [
    "Its gives less than the others.\n",
    "\n",
    "So lets add another hidden layer with 32 units and try to train it."
   ]
  },
  {
   "cell_type": "code",
   "execution_count": 126,
   "metadata": {},
   "outputs": [
    {
     "name": "stdout",
     "output_type": "stream",
     "text": [
      "Epoch 1/100\n",
      "907/907 [==============================] - 5s 4ms/step - loss: 7.4840 - mean_squared_error: 7.4840 - val_loss: 0.3217 - val_mean_squared_error: 0.3217\n",
      "Epoch 2/100\n",
      "907/907 [==============================] - 3s 4ms/step - loss: 2.1345 - mean_squared_error: 2.1345 - val_loss: 0.2678 - val_mean_squared_error: 0.2678\n",
      "Epoch 3/100\n",
      "907/907 [==============================] - 4s 4ms/step - loss: 1.8324 - mean_squared_error: 1.8324 - val_loss: 0.2241 - val_mean_squared_error: 0.2241\n",
      "Epoch 4/100\n",
      "907/907 [==============================] - 3s 4ms/step - loss: 1.6384 - mean_squared_error: 1.6384 - val_loss: 0.2637 - val_mean_squared_error: 0.2637\n",
      "Epoch 5/100\n",
      "907/907 [==============================] - 3s 4ms/step - loss: 1.4154 - mean_squared_error: 1.4154 - val_loss: 0.2326 - val_mean_squared_error: 0.2326\n",
      "Epoch 6/100\n",
      "907/907 [==============================] - 3s 4ms/step - loss: 1.1873 - mean_squared_error: 1.1873 - val_loss: 0.2601 - val_mean_squared_error: 0.2601\n",
      "Epoch 7/100\n",
      "907/907 [==============================] - 4s 4ms/step - loss: 1.0321 - mean_squared_error: 1.0321 - val_loss: 0.2071 - val_mean_squared_error: 0.2071\n",
      "Epoch 8/100\n",
      "907/907 [==============================] - 4s 4ms/step - loss: 0.9402 - mean_squared_error: 0.9402 - val_loss: 0.2573 - val_mean_squared_error: 0.2573\n",
      "Epoch 9/100\n",
      "907/907 [==============================] - 4s 4ms/step - loss: 0.8522 - mean_squared_error: 0.8522 - val_loss: 0.2124 - val_mean_squared_error: 0.2124\n",
      "Epoch 10/100\n",
      "907/907 [==============================] - 3s 4ms/step - loss: 0.7554 - mean_squared_error: 0.7554 - val_loss: 0.2182 - val_mean_squared_error: 0.2182\n",
      "Epoch 11/100\n",
      "907/907 [==============================] - 4s 4ms/step - loss: 0.6794 - mean_squared_error: 0.6794 - val_loss: 0.2021 - val_mean_squared_error: 0.2021\n",
      "Epoch 12/100\n",
      "907/907 [==============================] - 4s 4ms/step - loss: 0.6089 - mean_squared_error: 0.6089 - val_loss: 0.2127 - val_mean_squared_error: 0.2127\n",
      "Epoch 13/100\n",
      "907/907 [==============================] - 3s 4ms/step - loss: 0.5461 - mean_squared_error: 0.5461 - val_loss: 0.2005 - val_mean_squared_error: 0.2005\n",
      "Epoch 14/100\n",
      "907/907 [==============================] - 3s 4ms/step - loss: 0.4871 - mean_squared_error: 0.4871 - val_loss: 0.2077 - val_mean_squared_error: 0.2077\n",
      "Epoch 15/100\n",
      "907/907 [==============================] - 3s 4ms/step - loss: 0.4393 - mean_squared_error: 0.4393 - val_loss: 0.1997 - val_mean_squared_error: 0.1997\n",
      "Epoch 16/100\n",
      "907/907 [==============================] - 4s 4ms/step - loss: 0.3973 - mean_squared_error: 0.3973 - val_loss: 0.1964 - val_mean_squared_error: 0.1964\n",
      "Epoch 17/100\n",
      "907/907 [==============================] - 4s 4ms/step - loss: 0.3590 - mean_squared_error: 0.3590 - val_loss: 0.2032 - val_mean_squared_error: 0.2032\n",
      "Epoch 18/100\n",
      "907/907 [==============================] - 3s 4ms/step - loss: 0.3289 - mean_squared_error: 0.3289 - val_loss: 0.1936 - val_mean_squared_error: 0.1936\n",
      "Epoch 19/100\n",
      "907/907 [==============================] - 3s 4ms/step - loss: 0.3059 - mean_squared_error: 0.3059 - val_loss: 0.1917 - val_mean_squared_error: 0.1917\n",
      "Epoch 20/100\n",
      "907/907 [==============================] - 3s 4ms/step - loss: 0.2785 - mean_squared_error: 0.2785 - val_loss: 0.1913 - val_mean_squared_error: 0.1913\n",
      "Epoch 21/100\n",
      "907/907 [==============================] - 4s 4ms/step - loss: 0.2628 - mean_squared_error: 0.2628 - val_loss: 0.1901 - val_mean_squared_error: 0.1901\n",
      "Epoch 22/100\n",
      "907/907 [==============================] - 3s 4ms/step - loss: 0.2518 - mean_squared_error: 0.2518 - val_loss: 0.1897 - val_mean_squared_error: 0.1897\n",
      "Epoch 23/100\n",
      "907/907 [==============================] - 3s 4ms/step - loss: 0.2389 - mean_squared_error: 0.2389 - val_loss: 0.1867 - val_mean_squared_error: 0.1867\n",
      "Epoch 24/100\n",
      "907/907 [==============================] - 3s 4ms/step - loss: 0.2306 - mean_squared_error: 0.2306 - val_loss: 0.1894 - val_mean_squared_error: 0.1894\n",
      "Epoch 25/100\n",
      "907/907 [==============================] - 3s 4ms/step - loss: 0.2237 - mean_squared_error: 0.2237 - val_loss: 0.1863 - val_mean_squared_error: 0.1863\n",
      "Epoch 26/100\n",
      "907/907 [==============================] - 4s 4ms/step - loss: 0.2200 - mean_squared_error: 0.2200 - val_loss: 0.1827 - val_mean_squared_error: 0.1827\n",
      "Epoch 27/100\n",
      "907/907 [==============================] - 4s 4ms/step - loss: 0.2163 - mean_squared_error: 0.2163 - val_loss: 0.1851 - val_mean_squared_error: 0.1851\n",
      "Epoch 28/100\n",
      "907/907 [==============================] - 4s 4ms/step - loss: 0.2129 - mean_squared_error: 0.2129 - val_loss: 0.1839 - val_mean_squared_error: 0.1839\n",
      "Epoch 29/100\n",
      "907/907 [==============================] - 4s 4ms/step - loss: 0.2121 - mean_squared_error: 0.2121 - val_loss: 0.1818 - val_mean_squared_error: 0.1818\n",
      "Epoch 30/100\n",
      "907/907 [==============================] - 4s 4ms/step - loss: 0.2101 - mean_squared_error: 0.2101 - val_loss: 0.1818 - val_mean_squared_error: 0.1818\n",
      "Epoch 31/100\n",
      "907/907 [==============================] - 3s 4ms/step - loss: 0.2080 - mean_squared_error: 0.2080 - val_loss: 0.1827 - val_mean_squared_error: 0.1827\n",
      "Epoch 32/100\n",
      "907/907 [==============================] - 3s 4ms/step - loss: 0.2085 - mean_squared_error: 0.2085 - val_loss: 0.1815 - val_mean_squared_error: 0.1815\n",
      "Epoch 33/100\n",
      "907/907 [==============================] - 3s 4ms/step - loss: 0.2070 - mean_squared_error: 0.2070 - val_loss: 0.1824 - val_mean_squared_error: 0.1824\n",
      "Epoch 34/100\n",
      "907/907 [==============================] - 3s 4ms/step - loss: 0.2068 - mean_squared_error: 0.2068 - val_loss: 0.1811 - val_mean_squared_error: 0.1811\n",
      "Epoch 35/100\n",
      "907/907 [==============================] - 4s 4ms/step - loss: 0.2059 - mean_squared_error: 0.2059 - val_loss: 0.1811 - val_mean_squared_error: 0.1811\n",
      "Epoch 36/100\n",
      "907/907 [==============================] - 3s 4ms/step - loss: 0.2055 - mean_squared_error: 0.2055 - val_loss: 0.1806 - val_mean_squared_error: 0.1806\n",
      "Epoch 37/100\n",
      "907/907 [==============================] - 3s 4ms/step - loss: 0.2052 - mean_squared_error: 0.2052 - val_loss: 0.1807 - val_mean_squared_error: 0.1807\n",
      "Epoch 38/100\n",
      "907/907 [==============================] - 3s 4ms/step - loss: 0.2040 - mean_squared_error: 0.2040 - val_loss: 0.1792 - val_mean_squared_error: 0.1792\n",
      "Epoch 39/100\n",
      "907/907 [==============================] - 4s 4ms/step - loss: 0.2039 - mean_squared_error: 0.2039 - val_loss: 0.1775 - val_mean_squared_error: 0.1775\n",
      "Epoch 40/100\n",
      "907/907 [==============================] - 3s 4ms/step - loss: 0.2039 - mean_squared_error: 0.2039 - val_loss: 0.1776 - val_mean_squared_error: 0.1776\n",
      "Epoch 41/100\n",
      "907/907 [==============================] - 3s 4ms/step - loss: 0.2036 - mean_squared_error: 0.2036 - val_loss: 0.1783 - val_mean_squared_error: 0.1783\n",
      "Epoch 42/100\n",
      "907/907 [==============================] - 3s 4ms/step - loss: 0.2026 - mean_squared_error: 0.2026 - val_loss: 0.1797 - val_mean_squared_error: 0.1797\n",
      "Epoch 43/100\n",
      "907/907 [==============================] - 3s 3ms/step - loss: 0.2012 - mean_squared_error: 0.2012 - val_loss: 0.1783 - val_mean_squared_error: 0.1783\n",
      "Epoch 44/100\n",
      "907/907 [==============================] - 3s 4ms/step - loss: 0.2022 - mean_squared_error: 0.2022 - val_loss: 0.1801 - val_mean_squared_error: 0.1801\n",
      "Epoch 45/100\n",
      "907/907 [==============================] - 4s 4ms/step - loss: 0.2028 - mean_squared_error: 0.2028 - val_loss: 0.1793 - val_mean_squared_error: 0.1793\n",
      "Epoch 46/100\n",
      "907/907 [==============================] - 3s 4ms/step - loss: 0.2036 - mean_squared_error: 0.2036 - val_loss: 0.1786 - val_mean_squared_error: 0.1786\n",
      "Epoch 47/100\n",
      "907/907 [==============================] - 3s 4ms/step - loss: 0.2016 - mean_squared_error: 0.2016 - val_loss: 0.1785 - val_mean_squared_error: 0.1785\n",
      "Epoch 48/100\n",
      "907/907 [==============================] - 3s 4ms/step - loss: 0.2024 - mean_squared_error: 0.2024 - val_loss: 0.1799 - val_mean_squared_error: 0.1799\n",
      "Epoch 49/100\n",
      "907/907 [==============================] - 3s 4ms/step - loss: 0.2014 - mean_squared_error: 0.2014 - val_loss: 0.1778 - val_mean_squared_error: 0.1778\n",
      "Epoch 50/100\n",
      "907/907 [==============================] - 3s 4ms/step - loss: 0.2007 - mean_squared_error: 0.2007 - val_loss: 0.1786 - val_mean_squared_error: 0.1786\n",
      "Epoch 51/100\n",
      "907/907 [==============================] - 3s 3ms/step - loss: 0.2016 - mean_squared_error: 0.2016 - val_loss: 0.1760 - val_mean_squared_error: 0.1760\n",
      "Epoch 52/100\n",
      "907/907 [==============================] - 3s 3ms/step - loss: 0.2011 - mean_squared_error: 0.2011 - val_loss: 0.1783 - val_mean_squared_error: 0.1783\n",
      "Epoch 53/100\n",
      "907/907 [==============================] - 3s 4ms/step - loss: 0.2010 - mean_squared_error: 0.2010 - val_loss: 0.1770 - val_mean_squared_error: 0.1770\n",
      "Epoch 54/100\n",
      "907/907 [==============================] - 4s 4ms/step - loss: 0.2010 - mean_squared_error: 0.2010 - val_loss: 0.1783 - val_mean_squared_error: 0.1783\n",
      "Epoch 55/100\n",
      "907/907 [==============================] - 3s 4ms/step - loss: 0.2018 - mean_squared_error: 0.2018 - val_loss: 0.1775 - val_mean_squared_error: 0.1775\n",
      "Epoch 56/100\n",
      "907/907 [==============================] - 3s 3ms/step - loss: 0.1992 - mean_squared_error: 0.1992 - val_loss: 0.1759 - val_mean_squared_error: 0.1759\n",
      "Epoch 57/100\n",
      "907/907 [==============================] - 3s 3ms/step - loss: 0.2009 - mean_squared_error: 0.2009 - val_loss: 0.1782 - val_mean_squared_error: 0.1782\n",
      "Epoch 58/100\n",
      "907/907 [==============================] - 3s 4ms/step - loss: 0.1995 - mean_squared_error: 0.1995 - val_loss: 0.1763 - val_mean_squared_error: 0.1763\n",
      "Epoch 59/100\n",
      "907/907 [==============================] - 3s 4ms/step - loss: 0.1994 - mean_squared_error: 0.1994 - val_loss: 0.1759 - val_mean_squared_error: 0.1759\n",
      "Epoch 60/100\n",
      "907/907 [==============================] - 3s 4ms/step - loss: 0.2000 - mean_squared_error: 0.2000 - val_loss: 0.1780 - val_mean_squared_error: 0.1780\n",
      "Epoch 61/100\n",
      "907/907 [==============================] - 3s 4ms/step - loss: 0.1988 - mean_squared_error: 0.1988 - val_loss: 0.1772 - val_mean_squared_error: 0.1772\n",
      "Epoch 62/100\n",
      "907/907 [==============================] - 3s 4ms/step - loss: 0.1989 - mean_squared_error: 0.1989 - val_loss: 0.1781 - val_mean_squared_error: 0.1781\n",
      "Epoch 63/100\n",
      "907/907 [==============================] - 4s 4ms/step - loss: 0.1979 - mean_squared_error: 0.1979 - val_loss: 0.1773 - val_mean_squared_error: 0.1773\n",
      "Epoch 64/100\n",
      "907/907 [==============================] - 4s 4ms/step - loss: 0.1996 - mean_squared_error: 0.1996 - val_loss: 0.1771 - val_mean_squared_error: 0.1771\n",
      "Epoch 65/100\n",
      "907/907 [==============================] - 3s 4ms/step - loss: 0.1986 - mean_squared_error: 0.1986 - val_loss: 0.1780 - val_mean_squared_error: 0.1780\n",
      "Epoch 66/100\n",
      "907/907 [==============================] - 3s 3ms/step - loss: 0.1990 - mean_squared_error: 0.1990 - val_loss: 0.1756 - val_mean_squared_error: 0.1756\n",
      "Epoch 67/100\n",
      "907/907 [==============================] - 4s 4ms/step - loss: 0.1980 - mean_squared_error: 0.1980 - val_loss: 0.1757 - val_mean_squared_error: 0.1757\n",
      "Epoch 68/100\n",
      "907/907 [==============================] - 4s 4ms/step - loss: 0.1991 - mean_squared_error: 0.1991 - val_loss: 0.1762 - val_mean_squared_error: 0.1762\n",
      "Epoch 69/100\n",
      "907/907 [==============================] - 4s 4ms/step - loss: 0.1978 - mean_squared_error: 0.1978 - val_loss: 0.1757 - val_mean_squared_error: 0.1757\n",
      "Epoch 70/100\n",
      "907/907 [==============================] - 3s 4ms/step - loss: 0.1979 - mean_squared_error: 0.1979 - val_loss: 0.1782 - val_mean_squared_error: 0.1782\n",
      "Epoch 71/100\n",
      "907/907 [==============================] - 3s 4ms/step - loss: 0.1981 - mean_squared_error: 0.1981 - val_loss: 0.1762 - val_mean_squared_error: 0.1762\n",
      "Epoch 72/100\n",
      "907/907 [==============================] - 3s 4ms/step - loss: 0.1985 - mean_squared_error: 0.1985 - val_loss: 0.1753 - val_mean_squared_error: 0.1753\n",
      "Epoch 73/100\n",
      "907/907 [==============================] - 4s 4ms/step - loss: 0.1970 - mean_squared_error: 0.1970 - val_loss: 0.1755 - val_mean_squared_error: 0.1755\n",
      "Epoch 74/100\n",
      "907/907 [==============================] - 3s 4ms/step - loss: 0.1979 - mean_squared_error: 0.1979 - val_loss: 0.1780 - val_mean_squared_error: 0.1780\n",
      "Epoch 75/100\n",
      "907/907 [==============================] - 3s 4ms/step - loss: 0.1981 - mean_squared_error: 0.1981 - val_loss: 0.1781 - val_mean_squared_error: 0.1781\n",
      "Epoch 76/100\n",
      "907/907 [==============================] - 3s 4ms/step - loss: 0.1977 - mean_squared_error: 0.1977 - val_loss: 0.1769 - val_mean_squared_error: 0.1769\n",
      "Epoch 77/100\n",
      "907/907 [==============================] - 3s 4ms/step - loss: 0.1984 - mean_squared_error: 0.1984 - val_loss: 0.1754 - val_mean_squared_error: 0.1754\n",
      "Epoch 78/100\n",
      "907/907 [==============================] - 3s 4ms/step - loss: 0.1966 - mean_squared_error: 0.1966 - val_loss: 0.1765 - val_mean_squared_error: 0.1765\n",
      "Epoch 79/100\n",
      "907/907 [==============================] - 3s 4ms/step - loss: 0.1964 - mean_squared_error: 0.1964 - val_loss: 0.1758 - val_mean_squared_error: 0.1758\n",
      "Epoch 80/100\n",
      "907/907 [==============================] - 3s 4ms/step - loss: 0.1976 - mean_squared_error: 0.1976 - val_loss: 0.1763 - val_mean_squared_error: 0.1763\n",
      "Epoch 81/100\n",
      "907/907 [==============================] - 3s 4ms/step - loss: 0.1981 - mean_squared_error: 0.1981 - val_loss: 0.1755 - val_mean_squared_error: 0.1755\n",
      "Epoch 82/100\n",
      "907/907 [==============================] - 4s 4ms/step - loss: 0.1984 - mean_squared_error: 0.1984 - val_loss: 0.1760 - val_mean_squared_error: 0.1760\n",
      "Epoch 83/100\n",
      "907/907 [==============================] - 3s 4ms/step - loss: 0.1984 - mean_squared_error: 0.1984 - val_loss: 0.1745 - val_mean_squared_error: 0.1745\n",
      "Epoch 84/100\n",
      "907/907 [==============================] - 3s 4ms/step - loss: 0.1974 - mean_squared_error: 0.1974 - val_loss: 0.1753 - val_mean_squared_error: 0.1753\n",
      "Epoch 85/100\n",
      "907/907 [==============================] - 3s 4ms/step - loss: 0.1966 - mean_squared_error: 0.1966 - val_loss: 0.1763 - val_mean_squared_error: 0.1763\n",
      "Epoch 86/100\n",
      "907/907 [==============================] - 4s 4ms/step - loss: 0.1969 - mean_squared_error: 0.1969 - val_loss: 0.1736 - val_mean_squared_error: 0.1736\n",
      "Epoch 87/100\n",
      "907/907 [==============================] - 4s 4ms/step - loss: 0.1956 - mean_squared_error: 0.1956 - val_loss: 0.1747 - val_mean_squared_error: 0.1747\n",
      "Epoch 88/100\n",
      "907/907 [==============================] - 3s 4ms/step - loss: 0.1970 - mean_squared_error: 0.1970 - val_loss: 0.1746 - val_mean_squared_error: 0.1746\n",
      "Epoch 89/100\n",
      "907/907 [==============================] - 3s 4ms/step - loss: 0.1962 - mean_squared_error: 0.1962 - val_loss: 0.1762 - val_mean_squared_error: 0.1762\n",
      "Epoch 90/100\n",
      "907/907 [==============================] - 3s 4ms/step - loss: 0.1960 - mean_squared_error: 0.1960 - val_loss: 0.1737 - val_mean_squared_error: 0.1737\n",
      "Epoch 91/100\n",
      "907/907 [==============================] - 3s 4ms/step - loss: 0.1967 - mean_squared_error: 0.1967 - val_loss: 0.1745 - val_mean_squared_error: 0.1745\n",
      "Epoch 92/100\n",
      "907/907 [==============================] - 3s 4ms/step - loss: 0.1964 - mean_squared_error: 0.1964 - val_loss: 0.1742 - val_mean_squared_error: 0.1742\n",
      "Epoch 93/100\n",
      "907/907 [==============================] - 3s 4ms/step - loss: 0.1963 - mean_squared_error: 0.1963 - val_loss: 0.1753 - val_mean_squared_error: 0.1753\n",
      "Epoch 94/100\n",
      "907/907 [==============================] - 3s 4ms/step - loss: 0.1967 - mean_squared_error: 0.1967 - val_loss: 0.1736 - val_mean_squared_error: 0.1736\n",
      "Epoch 95/100\n",
      "907/907 [==============================] - 3s 4ms/step - loss: 0.1963 - mean_squared_error: 0.1963 - val_loss: 0.1748 - val_mean_squared_error: 0.1748\n",
      "Epoch 96/100\n",
      "907/907 [==============================] - 4s 4ms/step - loss: 0.1963 - mean_squared_error: 0.1963 - val_loss: 0.1748 - val_mean_squared_error: 0.1748\n",
      "Epoch 97/100\n",
      "907/907 [==============================] - 3s 4ms/step - loss: 0.1950 - mean_squared_error: 0.1950 - val_loss: 0.1731 - val_mean_squared_error: 0.1731\n",
      "Epoch 98/100\n",
      "907/907 [==============================] - 3s 4ms/step - loss: 0.1955 - mean_squared_error: 0.1955 - val_loss: 0.1735 - val_mean_squared_error: 0.1735\n",
      "Epoch 99/100\n",
      "907/907 [==============================] - 3s 4ms/step - loss: 0.1957 - mean_squared_error: 0.1957 - val_loss: 0.1738 - val_mean_squared_error: 0.1738\n",
      "Epoch 100/100\n",
      "907/907 [==============================] - 3s 3ms/step - loss: 0.1958 - mean_squared_error: 0.1958 - val_loss: 0.1752 - val_mean_squared_error: 0.1752\n"
     ]
    },
    {
     "data": {
      "text/plain": [
       "<keras.callbacks.History at 0x27539ea7640>"
      ]
     },
     "execution_count": 126,
     "metadata": {},
     "output_type": "execute_result"
    }
   ],
   "source": [
    "nn64_32 = keras.models.load_model('models/nn64-32')\n",
    "nn64_32.fit(xTrain, yTrain, validation_split=0.2, epochs=100, batch_size=64)"
   ]
  },
  {
   "cell_type": "code",
   "execution_count": 127,
   "metadata": {},
   "outputs": [
    {
     "name": "stdout",
     "output_type": "stream",
     "text": [
      "2267/2267 [==============================] - 6s 2ms/step\n",
      "0.6461827160577699\n",
      "567/567 [==============================] - 1s 2ms/step\n"
     ]
    },
    {
     "data": {
      "text/plain": [
       "0.632515335331016"
      ]
     },
     "execution_count": 127,
     "metadata": {},
     "output_type": "execute_result"
    }
   ],
   "source": [
    "print(r2_score(yTrain, nn64_32.predict(xTrain)))\n",
    "r2_score(yTest, nn64_32.predict(xTest))"
   ]
  },
  {
   "cell_type": "code",
   "execution_count": 131,
   "metadata": {},
   "outputs": [
    {
     "name": "stdout",
     "output_type": "stream",
     "text": [
      "INFO:tensorflow:Assets written to: models/nn64-32\\assets\n"
     ]
    }
   ],
   "source": [
    "nn64_32.save('models/nn64-32')"
   ]
  },
  {
   "attachments": {},
   "cell_type": "markdown",
   "metadata": {},
   "source": [
    "Its result good but still low.\n",
    "\n",
    "we will ad another hidden layer with 16 units an refit."
   ]
  },
  {
   "cell_type": "code",
   "execution_count": 128,
   "metadata": {},
   "outputs": [
    {
     "name": "stdout",
     "output_type": "stream",
     "text": [
      "Epoch 1/100\n",
      "907/907 [==============================] - 5s 4ms/step - loss: 8.2640 - mean_squared_error: 8.2640 - val_loss: 0.7075 - val_mean_squared_error: 0.7075\n",
      "Epoch 2/100\n",
      "907/907 [==============================] - 4s 4ms/step - loss: 3.6764 - mean_squared_error: 3.6764 - val_loss: 0.4429 - val_mean_squared_error: 0.4429\n",
      "Epoch 3/100\n",
      "907/907 [==============================] - 4s 4ms/step - loss: 2.9784 - mean_squared_error: 2.9784 - val_loss: 0.3015 - val_mean_squared_error: 0.3015\n",
      "Epoch 4/100\n",
      "907/907 [==============================] - 4s 4ms/step - loss: 2.4506 - mean_squared_error: 2.4506 - val_loss: 0.2408 - val_mean_squared_error: 0.2408\n",
      "Epoch 5/100\n",
      "907/907 [==============================] - 4s 4ms/step - loss: 2.0534 - mean_squared_error: 2.0534 - val_loss: 0.2730 - val_mean_squared_error: 0.2730\n",
      "Epoch 6/100\n",
      "907/907 [==============================] - 4s 4ms/step - loss: 1.7428 - mean_squared_error: 1.7428 - val_loss: 0.2428 - val_mean_squared_error: 0.2428\n",
      "Epoch 7/100\n",
      "907/907 [==============================] - 3s 4ms/step - loss: 1.4740 - mean_squared_error: 1.4740 - val_loss: 0.2405 - val_mean_squared_error: 0.2405\n",
      "Epoch 8/100\n",
      "907/907 [==============================] - 4s 4ms/step - loss: 1.2743 - mean_squared_error: 1.2743 - val_loss: 0.2651 - val_mean_squared_error: 0.2651\n",
      "Epoch 9/100\n",
      "907/907 [==============================] - 4s 4ms/step - loss: 1.0865 - mean_squared_error: 1.0865 - val_loss: 0.2247 - val_mean_squared_error: 0.2247\n",
      "Epoch 10/100\n",
      "907/907 [==============================] - 4s 4ms/step - loss: 0.9030 - mean_squared_error: 0.9030 - val_loss: 0.2114 - val_mean_squared_error: 0.2114\n",
      "Epoch 11/100\n",
      "907/907 [==============================] - 4s 4ms/step - loss: 0.7591 - mean_squared_error: 0.7591 - val_loss: 0.2097 - val_mean_squared_error: 0.2097\n",
      "Epoch 12/100\n",
      "907/907 [==============================] - 4s 4ms/step - loss: 0.6324 - mean_squared_error: 0.6324 - val_loss: 0.1977 - val_mean_squared_error: 0.1977\n",
      "Epoch 13/100\n",
      "907/907 [==============================] - 4s 4ms/step - loss: 0.5208 - mean_squared_error: 0.5208 - val_loss: 0.2019 - val_mean_squared_error: 0.2019\n",
      "Epoch 14/100\n",
      "907/907 [==============================] - 4s 5ms/step - loss: 0.4322 - mean_squared_error: 0.4322 - val_loss: 0.1915 - val_mean_squared_error: 0.1915\n",
      "Epoch 15/100\n",
      "907/907 [==============================] - 4s 4ms/step - loss: 0.3654 - mean_squared_error: 0.3654 - val_loss: 0.1860 - val_mean_squared_error: 0.1860\n",
      "Epoch 16/100\n",
      "907/907 [==============================] - 4s 4ms/step - loss: 0.3126 - mean_squared_error: 0.3126 - val_loss: 0.1873 - val_mean_squared_error: 0.1873\n",
      "Epoch 17/100\n",
      "907/907 [==============================] - 4s 4ms/step - loss: 0.2723 - mean_squared_error: 0.2723 - val_loss: 0.1856 - val_mean_squared_error: 0.1856\n",
      "Epoch 18/100\n",
      "907/907 [==============================] - 4s 4ms/step - loss: 0.2498 - mean_squared_error: 0.2498 - val_loss: 0.1822 - val_mean_squared_error: 0.1822\n",
      "Epoch 19/100\n",
      "907/907 [==============================] - 4s 4ms/step - loss: 0.2328 - mean_squared_error: 0.2328 - val_loss: 0.1803 - val_mean_squared_error: 0.1803\n",
      "Epoch 20/100\n",
      "907/907 [==============================] - 4s 4ms/step - loss: 0.2238 - mean_squared_error: 0.2238 - val_loss: 0.1812 - val_mean_squared_error: 0.1812\n",
      "Epoch 21/100\n",
      "907/907 [==============================] - 4s 4ms/step - loss: 0.2188 - mean_squared_error: 0.2188 - val_loss: 0.1799 - val_mean_squared_error: 0.1799\n",
      "Epoch 22/100\n",
      "907/907 [==============================] - 4s 4ms/step - loss: 0.2154 - mean_squared_error: 0.2154 - val_loss: 0.1790 - val_mean_squared_error: 0.1790\n",
      "Epoch 23/100\n",
      "907/907 [==============================] - 4s 4ms/step - loss: 0.2124 - mean_squared_error: 0.2124 - val_loss: 0.1789 - val_mean_squared_error: 0.1789\n",
      "Epoch 24/100\n",
      "907/907 [==============================] - 4s 4ms/step - loss: 0.2103 - mean_squared_error: 0.2103 - val_loss: 0.1778 - val_mean_squared_error: 0.1778\n",
      "Epoch 25/100\n",
      "907/907 [==============================] - 3s 4ms/step - loss: 0.2091 - mean_squared_error: 0.2091 - val_loss: 0.1772 - val_mean_squared_error: 0.1772\n",
      "Epoch 26/100\n",
      "907/907 [==============================] - 4s 4ms/step - loss: 0.2063 - mean_squared_error: 0.2063 - val_loss: 0.1763 - val_mean_squared_error: 0.1763\n",
      "Epoch 27/100\n",
      "907/907 [==============================] - 4s 4ms/step - loss: 0.2074 - mean_squared_error: 0.2074 - val_loss: 0.1764 - val_mean_squared_error: 0.1764\n",
      "Epoch 28/100\n",
      "907/907 [==============================] - 4s 4ms/step - loss: 0.2071 - mean_squared_error: 0.2071 - val_loss: 0.1755 - val_mean_squared_error: 0.1755\n",
      "Epoch 29/100\n",
      "907/907 [==============================] - 3s 4ms/step - loss: 0.2060 - mean_squared_error: 0.2060 - val_loss: 0.1760 - val_mean_squared_error: 0.1760\n",
      "Epoch 30/100\n",
      "907/907 [==============================] - 4s 4ms/step - loss: 0.2056 - mean_squared_error: 0.2056 - val_loss: 0.1757 - val_mean_squared_error: 0.1757\n",
      "Epoch 31/100\n",
      "907/907 [==============================] - 4s 5ms/step - loss: 0.2052 - mean_squared_error: 0.2052 - val_loss: 0.1741 - val_mean_squared_error: 0.1741\n",
      "Epoch 32/100\n",
      "907/907 [==============================] - 4s 4ms/step - loss: 0.2040 - mean_squared_error: 0.2040 - val_loss: 0.1739 - val_mean_squared_error: 0.1739\n",
      "Epoch 33/100\n",
      "907/907 [==============================] - 4s 4ms/step - loss: 0.2041 - mean_squared_error: 0.2041 - val_loss: 0.1753 - val_mean_squared_error: 0.1753\n",
      "Epoch 34/100\n",
      "907/907 [==============================] - 4s 4ms/step - loss: 0.2045 - mean_squared_error: 0.2045 - val_loss: 0.1791 - val_mean_squared_error: 0.1791\n",
      "Epoch 35/100\n",
      "907/907 [==============================] - 4s 4ms/step - loss: 0.2025 - mean_squared_error: 0.2025 - val_loss: 0.1740 - val_mean_squared_error: 0.1740\n",
      "Epoch 36/100\n",
      "907/907 [==============================] - 4s 4ms/step - loss: 0.2035 - mean_squared_error: 0.2035 - val_loss: 0.1755 - val_mean_squared_error: 0.1755\n",
      "Epoch 37/100\n",
      "907/907 [==============================] - 4s 4ms/step - loss: 0.2019 - mean_squared_error: 0.2019 - val_loss: 0.1729 - val_mean_squared_error: 0.1729\n",
      "Epoch 38/100\n",
      "907/907 [==============================] - 3s 4ms/step - loss: 0.2033 - mean_squared_error: 0.2033 - val_loss: 0.1725 - val_mean_squared_error: 0.1725\n",
      "Epoch 39/100\n",
      "907/907 [==============================] - 4s 4ms/step - loss: 0.2028 - mean_squared_error: 0.2028 - val_loss: 0.1721 - val_mean_squared_error: 0.1721\n",
      "Epoch 40/100\n",
      "907/907 [==============================] - 4s 4ms/step - loss: 0.2019 - mean_squared_error: 0.2019 - val_loss: 0.1744 - val_mean_squared_error: 0.1744\n",
      "Epoch 41/100\n",
      "907/907 [==============================] - 4s 4ms/step - loss: 0.2019 - mean_squared_error: 0.2019 - val_loss: 0.1712 - val_mean_squared_error: 0.1712\n",
      "Epoch 42/100\n",
      "907/907 [==============================] - 3s 4ms/step - loss: 0.2008 - mean_squared_error: 0.2008 - val_loss: 0.1712 - val_mean_squared_error: 0.1712\n",
      "Epoch 43/100\n",
      "907/907 [==============================] - 4s 4ms/step - loss: 0.2007 - mean_squared_error: 0.2007 - val_loss: 0.1751 - val_mean_squared_error: 0.1751\n",
      "Epoch 44/100\n",
      "907/907 [==============================] - 4s 4ms/step - loss: 0.2013 - mean_squared_error: 0.2013 - val_loss: 0.1742 - val_mean_squared_error: 0.1742\n",
      "Epoch 45/100\n",
      "907/907 [==============================] - 3s 4ms/step - loss: 0.2013 - mean_squared_error: 0.2013 - val_loss: 0.1734 - val_mean_squared_error: 0.1734\n",
      "Epoch 46/100\n",
      "907/907 [==============================] - 3s 4ms/step - loss: 0.1996 - mean_squared_error: 0.1996 - val_loss: 0.1741 - val_mean_squared_error: 0.1741\n",
      "Epoch 47/100\n",
      "907/907 [==============================] - 4s 4ms/step - loss: 0.2001 - mean_squared_error: 0.2001 - val_loss: 0.1724 - val_mean_squared_error: 0.1724\n",
      "Epoch 48/100\n",
      "907/907 [==============================] - 4s 5ms/step - loss: 0.1993 - mean_squared_error: 0.1993 - val_loss: 0.1702 - val_mean_squared_error: 0.1702\n",
      "Epoch 49/100\n",
      "907/907 [==============================] - 4s 4ms/step - loss: 0.2009 - mean_squared_error: 0.2009 - val_loss: 0.1732 - val_mean_squared_error: 0.1732\n",
      "Epoch 50/100\n",
      "907/907 [==============================] - 4s 4ms/step - loss: 0.1995 - mean_squared_error: 0.1995 - val_loss: 0.1707 - val_mean_squared_error: 0.1707\n",
      "Epoch 51/100\n",
      "907/907 [==============================] - 3s 4ms/step - loss: 0.2002 - mean_squared_error: 0.2002 - val_loss: 0.1726 - val_mean_squared_error: 0.1726\n",
      "Epoch 52/100\n",
      "907/907 [==============================] - 4s 4ms/step - loss: 0.2004 - mean_squared_error: 0.2004 - val_loss: 0.1700 - val_mean_squared_error: 0.1700\n",
      "Epoch 53/100\n",
      "907/907 [==============================] - 4s 4ms/step - loss: 0.2008 - mean_squared_error: 0.2008 - val_loss: 0.1724 - val_mean_squared_error: 0.1724\n",
      "Epoch 54/100\n",
      "907/907 [==============================] - 3s 4ms/step - loss: 0.2004 - mean_squared_error: 0.2004 - val_loss: 0.1739 - val_mean_squared_error: 0.1739\n",
      "Epoch 55/100\n",
      "907/907 [==============================] - 4s 4ms/step - loss: 0.1995 - mean_squared_error: 0.1995 - val_loss: 0.1711 - val_mean_squared_error: 0.1711\n",
      "Epoch 56/100\n",
      "907/907 [==============================] - 4s 4ms/step - loss: 0.1987 - mean_squared_error: 0.1987 - val_loss: 0.1701 - val_mean_squared_error: 0.1701\n",
      "Epoch 57/100\n",
      "907/907 [==============================] - 4s 4ms/step - loss: 0.1985 - mean_squared_error: 0.1985 - val_loss: 0.1742 - val_mean_squared_error: 0.1742\n",
      "Epoch 58/100\n",
      "907/907 [==============================] - 4s 4ms/step - loss: 0.1977 - mean_squared_error: 0.1977 - val_loss: 0.1694 - val_mean_squared_error: 0.1694\n",
      "Epoch 59/100\n",
      "907/907 [==============================] - 4s 4ms/step - loss: 0.1993 - mean_squared_error: 0.1993 - val_loss: 0.1714 - val_mean_squared_error: 0.1714\n",
      "Epoch 60/100\n",
      "907/907 [==============================] - 4s 4ms/step - loss: 0.1988 - mean_squared_error: 0.1988 - val_loss: 0.1713 - val_mean_squared_error: 0.1713\n",
      "Epoch 61/100\n",
      "907/907 [==============================] - 4s 4ms/step - loss: 0.1987 - mean_squared_error: 0.1987 - val_loss: 0.1704 - val_mean_squared_error: 0.1704\n",
      "Epoch 62/100\n",
      "907/907 [==============================] - 3s 4ms/step - loss: 0.1992 - mean_squared_error: 0.1992 - val_loss: 0.1703 - val_mean_squared_error: 0.1703\n",
      "Epoch 63/100\n",
      "907/907 [==============================] - 3s 4ms/step - loss: 0.1995 - mean_squared_error: 0.1995 - val_loss: 0.1717 - val_mean_squared_error: 0.1717\n",
      "Epoch 64/100\n",
      "907/907 [==============================] - 3s 4ms/step - loss: 0.1979 - mean_squared_error: 0.1979 - val_loss: 0.1716 - val_mean_squared_error: 0.1716\n",
      "Epoch 65/100\n",
      "907/907 [==============================] - 4s 4ms/step - loss: 0.1986 - mean_squared_error: 0.1986 - val_loss: 0.1707 - val_mean_squared_error: 0.1707\n",
      "Epoch 66/100\n",
      "907/907 [==============================] - 4s 4ms/step - loss: 0.1988 - mean_squared_error: 0.1988 - val_loss: 0.1731 - val_mean_squared_error: 0.1731\n",
      "Epoch 67/100\n",
      "907/907 [==============================] - 4s 4ms/step - loss: 0.1972 - mean_squared_error: 0.1972 - val_loss: 0.1714 - val_mean_squared_error: 0.1714\n",
      "Epoch 68/100\n",
      "907/907 [==============================] - 4s 4ms/step - loss: 0.1970 - mean_squared_error: 0.1970 - val_loss: 0.1702 - val_mean_squared_error: 0.1702\n",
      "Epoch 69/100\n",
      "907/907 [==============================] - 4s 4ms/step - loss: 0.1970 - mean_squared_error: 0.1970 - val_loss: 0.1742 - val_mean_squared_error: 0.1742\n",
      "Epoch 70/100\n",
      "907/907 [==============================] - 4s 4ms/step - loss: 0.1993 - mean_squared_error: 0.1993 - val_loss: 0.1709 - val_mean_squared_error: 0.1709\n",
      "Epoch 71/100\n",
      "907/907 [==============================] - 3s 4ms/step - loss: 0.1982 - mean_squared_error: 0.1982 - val_loss: 0.1713 - val_mean_squared_error: 0.1713\n",
      "Epoch 72/100\n",
      "907/907 [==============================] - 3s 4ms/step - loss: 0.1974 - mean_squared_error: 0.1974 - val_loss: 0.1702 - val_mean_squared_error: 0.1702\n",
      "Epoch 73/100\n",
      "907/907 [==============================] - 3s 4ms/step - loss: 0.1970 - mean_squared_error: 0.1970 - val_loss: 0.1713 - val_mean_squared_error: 0.1713\n",
      "Epoch 74/100\n",
      "907/907 [==============================] - 4s 5ms/step - loss: 0.1985 - mean_squared_error: 0.1985 - val_loss: 0.1724 - val_mean_squared_error: 0.1724\n",
      "Epoch 75/100\n",
      "907/907 [==============================] - 4s 4ms/step - loss: 0.1983 - mean_squared_error: 0.1983 - val_loss: 0.1726 - val_mean_squared_error: 0.1726\n",
      "Epoch 76/100\n",
      "907/907 [==============================] - 4s 4ms/step - loss: 0.1976 - mean_squared_error: 0.1976 - val_loss: 0.1708 - val_mean_squared_error: 0.1708\n",
      "Epoch 77/100\n",
      "907/907 [==============================] - 3s 4ms/step - loss: 0.1980 - mean_squared_error: 0.1980 - val_loss: 0.1712 - val_mean_squared_error: 0.1712\n",
      "Epoch 78/100\n",
      "907/907 [==============================] - 4s 4ms/step - loss: 0.1983 - mean_squared_error: 0.1983 - val_loss: 0.1715 - val_mean_squared_error: 0.1715\n",
      "Epoch 79/100\n",
      "907/907 [==============================] - 4s 4ms/step - loss: 0.1960 - mean_squared_error: 0.1960 - val_loss: 0.1726 - val_mean_squared_error: 0.1726\n",
      "Epoch 80/100\n",
      "907/907 [==============================] - 3s 4ms/step - loss: 0.1969 - mean_squared_error: 0.1969 - val_loss: 0.1702 - val_mean_squared_error: 0.1702\n",
      "Epoch 81/100\n",
      "907/907 [==============================] - 3s 4ms/step - loss: 0.1968 - mean_squared_error: 0.1968 - val_loss: 0.1724 - val_mean_squared_error: 0.1724\n",
      "Epoch 82/100\n",
      "907/907 [==============================] - 3s 4ms/step - loss: 0.1973 - mean_squared_error: 0.1973 - val_loss: 0.1713 - val_mean_squared_error: 0.1713\n",
      "Epoch 83/100\n",
      "907/907 [==============================] - 4s 4ms/step - loss: 0.1980 - mean_squared_error: 0.1980 - val_loss: 0.1699 - val_mean_squared_error: 0.1699\n",
      "Epoch 84/100\n",
      "907/907 [==============================] - 3s 4ms/step - loss: 0.1980 - mean_squared_error: 0.1980 - val_loss: 0.1707 - val_mean_squared_error: 0.1707\n",
      "Epoch 85/100\n",
      "907/907 [==============================] - 4s 4ms/step - loss: 0.1979 - mean_squared_error: 0.1979 - val_loss: 0.1712 - val_mean_squared_error: 0.1712\n",
      "Epoch 86/100\n",
      "907/907 [==============================] - 4s 4ms/step - loss: 0.1963 - mean_squared_error: 0.1963 - val_loss: 0.1692 - val_mean_squared_error: 0.1692\n",
      "Epoch 87/100\n",
      "907/907 [==============================] - 4s 4ms/step - loss: 0.1976 - mean_squared_error: 0.1976 - val_loss: 0.1707 - val_mean_squared_error: 0.1707\n",
      "Epoch 88/100\n",
      "907/907 [==============================] - 4s 4ms/step - loss: 0.1974 - mean_squared_error: 0.1974 - val_loss: 0.1697 - val_mean_squared_error: 0.1697\n",
      "Epoch 89/100\n",
      "907/907 [==============================] - 3s 4ms/step - loss: 0.1966 - mean_squared_error: 0.1966 - val_loss: 0.1698 - val_mean_squared_error: 0.1698\n",
      "Epoch 90/100\n",
      "907/907 [==============================] - 4s 4ms/step - loss: 0.1967 - mean_squared_error: 0.1967 - val_loss: 0.1697 - val_mean_squared_error: 0.1697\n",
      "Epoch 91/100\n",
      "907/907 [==============================] - 4s 4ms/step - loss: 0.1956 - mean_squared_error: 0.1956 - val_loss: 0.1747 - val_mean_squared_error: 0.1747\n",
      "Epoch 92/100\n",
      "907/907 [==============================] - 4s 4ms/step - loss: 0.1966 - mean_squared_error: 0.1966 - val_loss: 0.1698 - val_mean_squared_error: 0.1698\n",
      "Epoch 93/100\n",
      "907/907 [==============================] - 4s 4ms/step - loss: 0.1968 - mean_squared_error: 0.1968 - val_loss: 0.1701 - val_mean_squared_error: 0.1701\n",
      "Epoch 94/100\n",
      "907/907 [==============================] - 4s 4ms/step - loss: 0.1955 - mean_squared_error: 0.1955 - val_loss: 0.1692 - val_mean_squared_error: 0.1692\n",
      "Epoch 95/100\n",
      "907/907 [==============================] - 3s 4ms/step - loss: 0.1963 - mean_squared_error: 0.1963 - val_loss: 0.1721 - val_mean_squared_error: 0.1721\n",
      "Epoch 96/100\n",
      "907/907 [==============================] - 4s 4ms/step - loss: 0.1980 - mean_squared_error: 0.1980 - val_loss: 0.1709 - val_mean_squared_error: 0.1709\n",
      "Epoch 97/100\n",
      "907/907 [==============================] - 4s 4ms/step - loss: 0.1960 - mean_squared_error: 0.1960 - val_loss: 0.1730 - val_mean_squared_error: 0.1730\n",
      "Epoch 98/100\n",
      "907/907 [==============================] - 4s 4ms/step - loss: 0.1974 - mean_squared_error: 0.1974 - val_loss: 0.1732 - val_mean_squared_error: 0.1732\n",
      "Epoch 99/100\n",
      "907/907 [==============================] - 4s 4ms/step - loss: 0.1962 - mean_squared_error: 0.1962 - val_loss: 0.1709 - val_mean_squared_error: 0.1709\n",
      "Epoch 100/100\n",
      "907/907 [==============================] - 4s 4ms/step - loss: 0.1957 - mean_squared_error: 0.1957 - val_loss: 0.1728 - val_mean_squared_error: 0.1728\n"
     ]
    },
    {
     "data": {
      "text/plain": [
       "<keras.callbacks.History at 0x275026044f0>"
      ]
     },
     "execution_count": 128,
     "metadata": {},
     "output_type": "execute_result"
    }
   ],
   "source": [
    "nn64_32_16 = keras.models.load_model('models/nn64-32-16')\n",
    "nn64_32_16.fit(xTrain, yTrain, validation_split=0.2, epochs=100, batch_size=64)"
   ]
  },
  {
   "cell_type": "code",
   "execution_count": 129,
   "metadata": {},
   "outputs": [
    {
     "name": "stdout",
     "output_type": "stream",
     "text": [
      "2267/2267 [==============================] - 5s 2ms/step\n",
      "0.6514037783840998\n",
      "567/567 [==============================] - 1s 2ms/step\n"
     ]
    },
    {
     "data": {
      "text/plain": [
       "0.6356076245985343"
      ]
     },
     "execution_count": 129,
     "metadata": {},
     "output_type": "execute_result"
    }
   ],
   "source": [
    "print(r2_score(yTrain, nn64_32_16.predict(xTrain)))\n",
    "r2_score(yTest, nn64_32_16.predict(xTest))"
   ]
  },
  {
   "cell_type": "code",
   "execution_count": null,
   "metadata": {},
   "outputs": [
    {
     "name": "stdout",
     "output_type": "stream",
     "text": [
      "INFO:tensorflow:Assets written to: models/nn64-32-16\\assets\n"
     ]
    }
   ],
   "source": [
    "nn64_32_16.save('models/nn64-32-16')"
   ]
  },
  {
   "attachments": {},
   "cell_type": "markdown",
   "metadata": {},
   "source": [
    "Still the result less than the others."
   ]
  },
  {
   "cell_type": "code",
   "execution_count": 28,
   "metadata": {},
   "outputs": [
    {
     "name": "stdout",
     "output_type": "stream",
     "text": [
      "Epoch 1/150\n",
      "1814/1814 [==============================] - 8s 4ms/step - loss: 0.7892 - mean_squared_error: 0.7892 - val_loss: 0.2334 - val_mean_squared_error: 0.2334\n",
      "Epoch 2/150\n",
      "1814/1814 [==============================] - 8s 4ms/step - loss: 0.3635 - mean_squared_error: 0.3635 - val_loss: 0.2149 - val_mean_squared_error: 0.2149\n",
      "Epoch 3/150\n",
      "1814/1814 [==============================] - 6s 4ms/step - loss: 0.3198 - mean_squared_error: 0.3198 - val_loss: 0.2077 - val_mean_squared_error: 0.2077\n",
      "Epoch 4/150\n",
      "1814/1814 [==============================] - 6s 3ms/step - loss: 0.2948 - mean_squared_error: 0.2948 - val_loss: 0.2032 - val_mean_squared_error: 0.2032\n",
      "Epoch 5/150\n",
      "1814/1814 [==============================] - 8s 5ms/step - loss: 0.2793 - mean_squared_error: 0.2793 - val_loss: 0.2030 - val_mean_squared_error: 0.2030\n",
      "Epoch 6/150\n",
      "1814/1814 [==============================] - 7s 4ms/step - loss: 0.2658 - mean_squared_error: 0.2658 - val_loss: 0.2028 - val_mean_squared_error: 0.2028\n",
      "Epoch 7/150\n",
      "1814/1814 [==============================] - 6s 4ms/step - loss: 0.2558 - mean_squared_error: 0.2558 - val_loss: 0.1979 - val_mean_squared_error: 0.1979\n",
      "Epoch 8/150\n",
      "1814/1814 [==============================] - 7s 4ms/step - loss: 0.2496 - mean_squared_error: 0.2496 - val_loss: 0.1960 - val_mean_squared_error: 0.1960\n",
      "Epoch 9/150\n",
      "1814/1814 [==============================] - 6s 3ms/step - loss: 0.2427 - mean_squared_error: 0.2427 - val_loss: 0.2031 - val_mean_squared_error: 0.2031\n",
      "Epoch 10/150\n",
      "1814/1814 [==============================] - 7s 4ms/step - loss: 0.2352 - mean_squared_error: 0.2352 - val_loss: 0.1940 - val_mean_squared_error: 0.1940\n",
      "Epoch 11/150\n",
      "1814/1814 [==============================] - 6s 3ms/step - loss: 0.2331 - mean_squared_error: 0.2331 - val_loss: 0.1935 - val_mean_squared_error: 0.1935\n",
      "Epoch 12/150\n",
      "1814/1814 [==============================] - 6s 3ms/step - loss: 0.2284 - mean_squared_error: 0.2284 - val_loss: 0.1935 - val_mean_squared_error: 0.1935\n",
      "Epoch 13/150\n",
      "1814/1814 [==============================] - 6s 3ms/step - loss: 0.2273 - mean_squared_error: 0.2273 - val_loss: 0.1918 - val_mean_squared_error: 0.1918\n",
      "Epoch 14/150\n",
      "1814/1814 [==============================] - 8s 4ms/step - loss: 0.2238 - mean_squared_error: 0.2238 - val_loss: 0.1919 - val_mean_squared_error: 0.1919\n",
      "Epoch 15/150\n",
      "1814/1814 [==============================] - 10s 5ms/step - loss: 0.2223 - mean_squared_error: 0.2223 - val_loss: 0.1912 - val_mean_squared_error: 0.1912\n",
      "Epoch 16/150\n",
      "1814/1814 [==============================] - 8s 4ms/step - loss: 0.2215 - mean_squared_error: 0.2215 - val_loss: 0.1955 - val_mean_squared_error: 0.1955\n",
      "Epoch 17/150\n",
      "1814/1814 [==============================] - 10s 5ms/step - loss: 0.2179 - mean_squared_error: 0.2179 - val_loss: 0.1920 - val_mean_squared_error: 0.1920\n",
      "Epoch 18/150\n",
      "1814/1814 [==============================] - 8s 5ms/step - loss: 0.2171 - mean_squared_error: 0.2171 - val_loss: 0.1907 - val_mean_squared_error: 0.1907\n",
      "Epoch 19/150\n",
      "1814/1814 [==============================] - 6s 3ms/step - loss: 0.2164 - mean_squared_error: 0.2164 - val_loss: 0.1902 - val_mean_squared_error: 0.1902\n",
      "Epoch 20/150\n",
      "1814/1814 [==============================] - 6s 3ms/step - loss: 0.2150 - mean_squared_error: 0.2150 - val_loss: 0.1923 - val_mean_squared_error: 0.1923\n",
      "Epoch 21/150\n",
      "1814/1814 [==============================] - 8s 4ms/step - loss: 0.2135 - mean_squared_error: 0.2135 - val_loss: 0.1903 - val_mean_squared_error: 0.1903\n",
      "Epoch 22/150\n",
      "1814/1814 [==============================] - 5s 3ms/step - loss: 0.2133 - mean_squared_error: 0.2133 - val_loss: 0.1889 - val_mean_squared_error: 0.1889\n",
      "Epoch 23/150\n",
      "1814/1814 [==============================] - 6s 3ms/step - loss: 0.2123 - mean_squared_error: 0.2123 - val_loss: 0.1890 - val_mean_squared_error: 0.1890\n",
      "Epoch 24/150\n",
      "1814/1814 [==============================] - 8s 4ms/step - loss: 0.2121 - mean_squared_error: 0.2121 - val_loss: 0.1889 - val_mean_squared_error: 0.1889\n",
      "Epoch 25/150\n",
      "1814/1814 [==============================] - 8s 4ms/step - loss: 0.2112 - mean_squared_error: 0.2112 - val_loss: 0.1895 - val_mean_squared_error: 0.1895\n",
      "Epoch 26/150\n",
      "1814/1814 [==============================] - 7s 4ms/step - loss: 0.2095 - mean_squared_error: 0.2095 - val_loss: 0.1870 - val_mean_squared_error: 0.1870\n",
      "Epoch 27/150\n",
      "1814/1814 [==============================] - 7s 4ms/step - loss: 0.2101 - mean_squared_error: 0.2101 - val_loss: 0.1907 - val_mean_squared_error: 0.1907\n",
      "Epoch 28/150\n",
      "1814/1814 [==============================] - 7s 4ms/step - loss: 0.2099 - mean_squared_error: 0.2099 - val_loss: 0.1921 - val_mean_squared_error: 0.1921\n",
      "Epoch 29/150\n",
      "1814/1814 [==============================] - 6s 4ms/step - loss: 0.2085 - mean_squared_error: 0.2085 - val_loss: 0.1900 - val_mean_squared_error: 0.1900\n",
      "Epoch 30/150\n",
      "1814/1814 [==============================] - 7s 4ms/step - loss: 0.2085 - mean_squared_error: 0.2085 - val_loss: 0.1868 - val_mean_squared_error: 0.1868\n",
      "Epoch 31/150\n",
      "1814/1814 [==============================] - 6s 4ms/step - loss: 0.2084 - mean_squared_error: 0.2084 - val_loss: 0.1865 - val_mean_squared_error: 0.1865\n",
      "Epoch 32/150\n",
      "1814/1814 [==============================] - 7s 4ms/step - loss: 0.2075 - mean_squared_error: 0.2075 - val_loss: 0.1856 - val_mean_squared_error: 0.1856\n",
      "Epoch 33/150\n",
      "1814/1814 [==============================] - 7s 4ms/step - loss: 0.2066 - mean_squared_error: 0.2066 - val_loss: 0.1853 - val_mean_squared_error: 0.1853\n",
      "Epoch 34/150\n",
      "1814/1814 [==============================] - 7s 4ms/step - loss: 0.2060 - mean_squared_error: 0.2060 - val_loss: 0.1883 - val_mean_squared_error: 0.1883\n",
      "Epoch 35/150\n",
      "1814/1814 [==============================] - 7s 4ms/step - loss: 0.2060 - mean_squared_error: 0.2060 - val_loss: 0.1850 - val_mean_squared_error: 0.1850\n",
      "Epoch 36/150\n",
      "1814/1814 [==============================] - 6s 4ms/step - loss: 0.2054 - mean_squared_error: 0.2054 - val_loss: 0.1848 - val_mean_squared_error: 0.1848\n",
      "Epoch 37/150\n",
      "1814/1814 [==============================] - 7s 4ms/step - loss: 0.2054 - mean_squared_error: 0.2054 - val_loss: 0.1869 - val_mean_squared_error: 0.1869\n",
      "Epoch 38/150\n",
      "1814/1814 [==============================] - 7s 4ms/step - loss: 0.2044 - mean_squared_error: 0.2044 - val_loss: 0.1848 - val_mean_squared_error: 0.1848\n",
      "Epoch 39/150\n",
      "1814/1814 [==============================] - 7s 4ms/step - loss: 0.2037 - mean_squared_error: 0.2037 - val_loss: 0.1859 - val_mean_squared_error: 0.1859\n",
      "Epoch 40/150\n",
      "1814/1814 [==============================] - 7s 4ms/step - loss: 0.2048 - mean_squared_error: 0.2048 - val_loss: 0.1847 - val_mean_squared_error: 0.1847\n",
      "Epoch 41/150\n",
      "1814/1814 [==============================] - 7s 4ms/step - loss: 0.2047 - mean_squared_error: 0.2047 - val_loss: 0.1839 - val_mean_squared_error: 0.1839\n",
      "Epoch 42/150\n",
      "1814/1814 [==============================] - 7s 4ms/step - loss: 0.2031 - mean_squared_error: 0.2031 - val_loss: 0.1845 - val_mean_squared_error: 0.1845\n",
      "Epoch 43/150\n",
      "1814/1814 [==============================] - 7s 4ms/step - loss: 0.2032 - mean_squared_error: 0.2032 - val_loss: 0.1834 - val_mean_squared_error: 0.1834\n",
      "Epoch 44/150\n",
      "1814/1814 [==============================] - 7s 4ms/step - loss: 0.2037 - mean_squared_error: 0.2037 - val_loss: 0.1845 - val_mean_squared_error: 0.1845\n",
      "Epoch 45/150\n",
      "1814/1814 [==============================] - 6s 4ms/step - loss: 0.2038 - mean_squared_error: 0.2038 - val_loss: 0.1834 - val_mean_squared_error: 0.1834\n",
      "Epoch 46/150\n",
      "1814/1814 [==============================] - 7s 4ms/step - loss: 0.2037 - mean_squared_error: 0.2037 - val_loss: 0.1828 - val_mean_squared_error: 0.1828\n",
      "Epoch 47/150\n",
      "1814/1814 [==============================] - 7s 4ms/step - loss: 0.2030 - mean_squared_error: 0.2030 - val_loss: 0.1834 - val_mean_squared_error: 0.1834\n",
      "Epoch 48/150\n",
      "1814/1814 [==============================] - 7s 4ms/step - loss: 0.2025 - mean_squared_error: 0.2025 - val_loss: 0.1872 - val_mean_squared_error: 0.1872\n",
      "Epoch 49/150\n",
      "1814/1814 [==============================] - 7s 4ms/step - loss: 0.2023 - mean_squared_error: 0.2023 - val_loss: 0.1822 - val_mean_squared_error: 0.1822\n",
      "Epoch 50/150\n",
      "1814/1814 [==============================] - 6s 4ms/step - loss: 0.2021 - mean_squared_error: 0.2021 - val_loss: 0.1856 - val_mean_squared_error: 0.1856\n",
      "Epoch 51/150\n",
      "1814/1814 [==============================] - 7s 4ms/step - loss: 0.2019 - mean_squared_error: 0.2019 - val_loss: 0.1819 - val_mean_squared_error: 0.1819\n",
      "Epoch 52/150\n",
      "1814/1814 [==============================] - 7s 4ms/step - loss: 0.2015 - mean_squared_error: 0.2015 - val_loss: 0.1818 - val_mean_squared_error: 0.1818\n",
      "Epoch 53/150\n",
      "1814/1814 [==============================] - 7s 4ms/step - loss: 0.2008 - mean_squared_error: 0.2008 - val_loss: 0.1834 - val_mean_squared_error: 0.1834\n",
      "Epoch 54/150\n",
      "1814/1814 [==============================] - 7s 4ms/step - loss: 0.2011 - mean_squared_error: 0.2011 - val_loss: 0.1845 - val_mean_squared_error: 0.1845\n",
      "Epoch 55/150\n",
      "1814/1814 [==============================] - 7s 4ms/step - loss: 0.2009 - mean_squared_error: 0.2009 - val_loss: 0.1822 - val_mean_squared_error: 0.1822\n",
      "Epoch 56/150\n",
      "1814/1814 [==============================] - 7s 4ms/step - loss: 0.2003 - mean_squared_error: 0.2003 - val_loss: 0.1817 - val_mean_squared_error: 0.1817\n",
      "Epoch 57/150\n",
      "1814/1814 [==============================] - 6s 4ms/step - loss: 0.2007 - mean_squared_error: 0.2007 - val_loss: 0.1827 - val_mean_squared_error: 0.1827\n",
      "Epoch 58/150\n",
      "1814/1814 [==============================] - 7s 4ms/step - loss: 0.2009 - mean_squared_error: 0.2009 - val_loss: 0.1808 - val_mean_squared_error: 0.1808\n",
      "Epoch 59/150\n",
      "1814/1814 [==============================] - 7s 4ms/step - loss: 0.2005 - mean_squared_error: 0.2005 - val_loss: 0.1810 - val_mean_squared_error: 0.1810\n",
      "Epoch 60/150\n",
      "1814/1814 [==============================] - 7s 4ms/step - loss: 0.2006 - mean_squared_error: 0.2006 - val_loss: 0.1814 - val_mean_squared_error: 0.1814\n",
      "Epoch 61/150\n",
      "1814/1814 [==============================] - 7s 4ms/step - loss: 0.1992 - mean_squared_error: 0.1992 - val_loss: 0.1822 - val_mean_squared_error: 0.1822\n",
      "Epoch 62/150\n",
      "1814/1814 [==============================] - 8s 4ms/step - loss: 0.1999 - mean_squared_error: 0.1999 - val_loss: 0.1802 - val_mean_squared_error: 0.1802\n",
      "Epoch 63/150\n",
      "1814/1814 [==============================] - 7s 4ms/step - loss: 0.1999 - mean_squared_error: 0.1999 - val_loss: 0.1829 - val_mean_squared_error: 0.1829\n",
      "Epoch 64/150\n",
      "1814/1814 [==============================] - 7s 4ms/step - loss: 0.2003 - mean_squared_error: 0.2003 - val_loss: 0.1820 - val_mean_squared_error: 0.1820\n",
      "Epoch 65/150\n",
      "1814/1814 [==============================] - 7s 4ms/step - loss: 0.1996 - mean_squared_error: 0.1996 - val_loss: 0.1802 - val_mean_squared_error: 0.1802\n",
      "Epoch 66/150\n",
      "1814/1814 [==============================] - 7s 4ms/step - loss: 0.1995 - mean_squared_error: 0.1995 - val_loss: 0.1800 - val_mean_squared_error: 0.1800\n",
      "Epoch 67/150\n",
      "1814/1814 [==============================] - 7s 4ms/step - loss: 0.1993 - mean_squared_error: 0.1993 - val_loss: 0.1817 - val_mean_squared_error: 0.1817\n",
      "Epoch 68/150\n",
      "1814/1814 [==============================] - 7s 4ms/step - loss: 0.1992 - mean_squared_error: 0.1992 - val_loss: 0.1795 - val_mean_squared_error: 0.1795\n",
      "Epoch 69/150\n",
      "1814/1814 [==============================] - 7s 4ms/step - loss: 0.1996 - mean_squared_error: 0.1996 - val_loss: 0.1794 - val_mean_squared_error: 0.1794\n",
      "Epoch 70/150\n",
      "1814/1814 [==============================] - 7s 4ms/step - loss: 0.1992 - mean_squared_error: 0.1992 - val_loss: 0.1840 - val_mean_squared_error: 0.1840\n",
      "Epoch 71/150\n",
      "1814/1814 [==============================] - 7s 4ms/step - loss: 0.1987 - mean_squared_error: 0.1987 - val_loss: 0.1801 - val_mean_squared_error: 0.1801\n",
      "Epoch 72/150\n",
      "1814/1814 [==============================] - 7s 4ms/step - loss: 0.1990 - mean_squared_error: 0.1990 - val_loss: 0.1796 - val_mean_squared_error: 0.1796\n",
      "Epoch 73/150\n",
      "1814/1814 [==============================] - 6s 4ms/step - loss: 0.1983 - mean_squared_error: 0.1983 - val_loss: 0.1802 - val_mean_squared_error: 0.1802\n",
      "Epoch 74/150\n",
      "1814/1814 [==============================] - 7s 4ms/step - loss: 0.1994 - mean_squared_error: 0.1994 - val_loss: 0.1802 - val_mean_squared_error: 0.1802\n",
      "Epoch 75/150\n",
      "1814/1814 [==============================] - 7s 4ms/step - loss: 0.1988 - mean_squared_error: 0.1988 - val_loss: 0.1806 - val_mean_squared_error: 0.1806\n",
      "Epoch 76/150\n",
      "1814/1814 [==============================] - 7s 4ms/step - loss: 0.1976 - mean_squared_error: 0.1976 - val_loss: 0.1795 - val_mean_squared_error: 0.1795\n",
      "Epoch 77/150\n",
      "1814/1814 [==============================] - 7s 4ms/step - loss: 0.1987 - mean_squared_error: 0.1987 - val_loss: 0.1815 - val_mean_squared_error: 0.1815\n",
      "Epoch 78/150\n",
      "1814/1814 [==============================] - 7s 4ms/step - loss: 0.1986 - mean_squared_error: 0.1986 - val_loss: 0.1793 - val_mean_squared_error: 0.1793\n",
      "Epoch 79/150\n",
      "1814/1814 [==============================] - 7s 4ms/step - loss: 0.1977 - mean_squared_error: 0.1977 - val_loss: 0.1796 - val_mean_squared_error: 0.1796\n",
      "Epoch 80/150\n",
      "1814/1814 [==============================] - 7s 4ms/step - loss: 0.1978 - mean_squared_error: 0.1978 - val_loss: 0.1803 - val_mean_squared_error: 0.1803\n",
      "Epoch 81/150\n",
      "1814/1814 [==============================] - 8s 4ms/step - loss: 0.1973 - mean_squared_error: 0.1973 - val_loss: 0.1796 - val_mean_squared_error: 0.1796\n",
      "Epoch 82/150\n",
      "1814/1814 [==============================] - 6s 4ms/step - loss: 0.1977 - mean_squared_error: 0.1977 - val_loss: 0.1789 - val_mean_squared_error: 0.1789\n",
      "Epoch 83/150\n",
      "1814/1814 [==============================] - 7s 4ms/step - loss: 0.1971 - mean_squared_error: 0.1971 - val_loss: 0.1786 - val_mean_squared_error: 0.1786\n",
      "Epoch 84/150\n",
      "1814/1814 [==============================] - 7s 4ms/step - loss: 0.1977 - mean_squared_error: 0.1977 - val_loss: 0.1788 - val_mean_squared_error: 0.1788\n",
      "Epoch 85/150\n",
      "1814/1814 [==============================] - 7s 4ms/step - loss: 0.1976 - mean_squared_error: 0.1976 - val_loss: 0.1783 - val_mean_squared_error: 0.1783\n",
      "Epoch 86/150\n",
      "1814/1814 [==============================] - 7s 4ms/step - loss: 0.1979 - mean_squared_error: 0.1979 - val_loss: 0.1781 - val_mean_squared_error: 0.1781\n",
      "Epoch 87/150\n",
      "1814/1814 [==============================] - 7s 4ms/step - loss: 0.1979 - mean_squared_error: 0.1979 - val_loss: 0.1799 - val_mean_squared_error: 0.1799\n",
      "Epoch 88/150\n",
      "1814/1814 [==============================] - 7s 4ms/step - loss: 0.1976 - mean_squared_error: 0.1976 - val_loss: 0.1805 - val_mean_squared_error: 0.1805\n",
      "Epoch 89/150\n",
      "1814/1814 [==============================] - 6s 4ms/step - loss: 0.1969 - mean_squared_error: 0.1969 - val_loss: 0.1787 - val_mean_squared_error: 0.1787\n",
      "Epoch 90/150\n",
      "1814/1814 [==============================] - 8s 4ms/step - loss: 0.1975 - mean_squared_error: 0.1975 - val_loss: 0.1792 - val_mean_squared_error: 0.1792\n",
      "Epoch 91/150\n",
      "1814/1814 [==============================] - 7s 4ms/step - loss: 0.1972 - mean_squared_error: 0.1972 - val_loss: 0.1782 - val_mean_squared_error: 0.1782\n",
      "Epoch 92/150\n",
      "1814/1814 [==============================] - 7s 4ms/step - loss: 0.1976 - mean_squared_error: 0.1976 - val_loss: 0.1784 - val_mean_squared_error: 0.1784\n",
      "Epoch 93/150\n",
      "1814/1814 [==============================] - 7s 4ms/step - loss: 0.1967 - mean_squared_error: 0.1967 - val_loss: 0.1779 - val_mean_squared_error: 0.1779\n",
      "Epoch 94/150\n",
      "1814/1814 [==============================] - 7s 4ms/step - loss: 0.1966 - mean_squared_error: 0.1966 - val_loss: 0.1778 - val_mean_squared_error: 0.1778\n",
      "Epoch 95/150\n",
      "1814/1814 [==============================] - 7s 4ms/step - loss: 0.1961 - mean_squared_error: 0.1961 - val_loss: 0.1779 - val_mean_squared_error: 0.1779\n",
      "Epoch 96/150\n",
      "1814/1814 [==============================] - 7s 4ms/step - loss: 0.1968 - mean_squared_error: 0.1968 - val_loss: 0.1866 - val_mean_squared_error: 0.1866\n",
      "Epoch 97/150\n",
      "1814/1814 [==============================] - 7s 4ms/step - loss: 0.1970 - mean_squared_error: 0.1970 - val_loss: 0.1786 - val_mean_squared_error: 0.1786\n",
      "Epoch 98/150\n",
      "1814/1814 [==============================] - 7s 4ms/step - loss: 0.1971 - mean_squared_error: 0.1971 - val_loss: 0.1777 - val_mean_squared_error: 0.1777\n",
      "Epoch 99/150\n",
      "1814/1814 [==============================] - 7s 4ms/step - loss: 0.1962 - mean_squared_error: 0.1962 - val_loss: 0.1773 - val_mean_squared_error: 0.1773\n",
      "Epoch 100/150\n",
      "1814/1814 [==============================] - 7s 4ms/step - loss: 0.1964 - mean_squared_error: 0.1964 - val_loss: 0.1772 - val_mean_squared_error: 0.1772\n",
      "Epoch 101/150\n",
      "1814/1814 [==============================] - 7s 4ms/step - loss: 0.1958 - mean_squared_error: 0.1958 - val_loss: 0.1773 - val_mean_squared_error: 0.1773\n",
      "Epoch 102/150\n",
      "1814/1814 [==============================] - 7s 4ms/step - loss: 0.1958 - mean_squared_error: 0.1958 - val_loss: 0.1774 - val_mean_squared_error: 0.1774\n",
      "Epoch 103/150\n",
      "1814/1814 [==============================] - 7s 4ms/step - loss: 0.1959 - mean_squared_error: 0.1959 - val_loss: 0.1788 - val_mean_squared_error: 0.1788\n",
      "Epoch 104/150\n",
      "1814/1814 [==============================] - 7s 4ms/step - loss: 0.1960 - mean_squared_error: 0.1960 - val_loss: 0.1785 - val_mean_squared_error: 0.1785\n",
      "Epoch 105/150\n",
      "1814/1814 [==============================] - 7s 4ms/step - loss: 0.1955 - mean_squared_error: 0.1955 - val_loss: 0.1782 - val_mean_squared_error: 0.1782\n",
      "Epoch 106/150\n",
      "1814/1814 [==============================] - 7s 4ms/step - loss: 0.1964 - mean_squared_error: 0.1964 - val_loss: 0.1795 - val_mean_squared_error: 0.1795\n",
      "Epoch 107/150\n",
      "1814/1814 [==============================] - 7s 4ms/step - loss: 0.1952 - mean_squared_error: 0.1952 - val_loss: 0.1770 - val_mean_squared_error: 0.1770\n",
      "Epoch 108/150\n",
      "1814/1814 [==============================] - 7s 4ms/step - loss: 0.1952 - mean_squared_error: 0.1952 - val_loss: 0.1772 - val_mean_squared_error: 0.1772\n",
      "Epoch 109/150\n",
      "1814/1814 [==============================] - 7s 4ms/step - loss: 0.1951 - mean_squared_error: 0.1951 - val_loss: 0.1774 - val_mean_squared_error: 0.1774\n",
      "Epoch 110/150\n",
      "1814/1814 [==============================] - 7s 4ms/step - loss: 0.1948 - mean_squared_error: 0.1948 - val_loss: 0.1782 - val_mean_squared_error: 0.1782\n",
      "Epoch 111/150\n",
      "1814/1814 [==============================] - 7s 4ms/step - loss: 0.1954 - mean_squared_error: 0.1954 - val_loss: 0.1772 - val_mean_squared_error: 0.1772\n",
      "Epoch 112/150\n",
      "1814/1814 [==============================] - 7s 4ms/step - loss: 0.1953 - mean_squared_error: 0.1953 - val_loss: 0.1771 - val_mean_squared_error: 0.1771\n",
      "Epoch 113/150\n",
      "1814/1814 [==============================] - 7s 4ms/step - loss: 0.1946 - mean_squared_error: 0.1946 - val_loss: 0.1769 - val_mean_squared_error: 0.1769\n",
      "Epoch 114/150\n",
      "1814/1814 [==============================] - 7s 4ms/step - loss: 0.1951 - mean_squared_error: 0.1951 - val_loss: 0.1767 - val_mean_squared_error: 0.1767\n",
      "Epoch 115/150\n",
      "1814/1814 [==============================] - 7s 4ms/step - loss: 0.1955 - mean_squared_error: 0.1955 - val_loss: 0.1774 - val_mean_squared_error: 0.1774\n",
      "Epoch 116/150\n",
      "1814/1814 [==============================] - 7s 4ms/step - loss: 0.1948 - mean_squared_error: 0.1948 - val_loss: 0.1782 - val_mean_squared_error: 0.1782\n",
      "Epoch 117/150\n",
      "1814/1814 [==============================] - 7s 4ms/step - loss: 0.1947 - mean_squared_error: 0.1947 - val_loss: 0.1793 - val_mean_squared_error: 0.1793\n",
      "Epoch 118/150\n",
      "1814/1814 [==============================] - 7s 4ms/step - loss: 0.1942 - mean_squared_error: 0.1942 - val_loss: 0.1768 - val_mean_squared_error: 0.1768\n",
      "Epoch 119/150\n",
      "1814/1814 [==============================] - 7s 4ms/step - loss: 0.1947 - mean_squared_error: 0.1947 - val_loss: 0.1762 - val_mean_squared_error: 0.1762\n",
      "Epoch 120/150\n",
      "1814/1814 [==============================] - 7s 4ms/step - loss: 0.1947 - mean_squared_error: 0.1947 - val_loss: 0.1761 - val_mean_squared_error: 0.1761\n",
      "Epoch 121/150\n",
      "1814/1814 [==============================] - 7s 4ms/step - loss: 0.1948 - mean_squared_error: 0.1948 - val_loss: 0.1767 - val_mean_squared_error: 0.1767\n",
      "Epoch 122/150\n",
      "1814/1814 [==============================] - 7s 4ms/step - loss: 0.1944 - mean_squared_error: 0.1944 - val_loss: 0.1761 - val_mean_squared_error: 0.1761\n",
      "Epoch 123/150\n",
      "1814/1814 [==============================] - 7s 4ms/step - loss: 0.1943 - mean_squared_error: 0.1943 - val_loss: 0.1762 - val_mean_squared_error: 0.1762\n",
      "Epoch 124/150\n",
      "1814/1814 [==============================] - 7s 4ms/step - loss: 0.1947 - mean_squared_error: 0.1947 - val_loss: 0.1774 - val_mean_squared_error: 0.1774\n",
      "Epoch 125/150\n",
      "1814/1814 [==============================] - 7s 4ms/step - loss: 0.1948 - mean_squared_error: 0.1948 - val_loss: 0.1790 - val_mean_squared_error: 0.1790\n",
      "Epoch 126/150\n",
      "1814/1814 [==============================] - 7s 4ms/step - loss: 0.1940 - mean_squared_error: 0.1940 - val_loss: 0.1757 - val_mean_squared_error: 0.1757\n",
      "Epoch 127/150\n",
      "1814/1814 [==============================] - 8s 4ms/step - loss: 0.1943 - mean_squared_error: 0.1943 - val_loss: 0.1779 - val_mean_squared_error: 0.1779\n",
      "Epoch 128/150\n",
      "1814/1814 [==============================] - 7s 4ms/step - loss: 0.1942 - mean_squared_error: 0.1942 - val_loss: 0.1758 - val_mean_squared_error: 0.1758\n",
      "Epoch 129/150\n",
      "1814/1814 [==============================] - 7s 4ms/step - loss: 0.1938 - mean_squared_error: 0.1938 - val_loss: 0.1765 - val_mean_squared_error: 0.1765\n",
      "Epoch 130/150\n",
      "1814/1814 [==============================] - 7s 4ms/step - loss: 0.1942 - mean_squared_error: 0.1942 - val_loss: 0.1786 - val_mean_squared_error: 0.1786\n",
      "Epoch 131/150\n",
      "1814/1814 [==============================] - 7s 4ms/step - loss: 0.1939 - mean_squared_error: 0.1939 - val_loss: 0.1774 - val_mean_squared_error: 0.1774\n",
      "Epoch 132/150\n",
      "1814/1814 [==============================] - 7s 4ms/step - loss: 0.1942 - mean_squared_error: 0.1942 - val_loss: 0.1784 - val_mean_squared_error: 0.1784\n",
      "Epoch 133/150\n",
      "1814/1814 [==============================] - 7s 4ms/step - loss: 0.1931 - mean_squared_error: 0.1931 - val_loss: 0.1764 - val_mean_squared_error: 0.1764\n",
      "Epoch 134/150\n",
      "1814/1814 [==============================] - 7s 4ms/step - loss: 0.1942 - mean_squared_error: 0.1942 - val_loss: 0.1759 - val_mean_squared_error: 0.1759\n",
      "Epoch 135/150\n",
      "1814/1814 [==============================] - 7s 4ms/step - loss: 0.1944 - mean_squared_error: 0.1944 - val_loss: 0.1769 - val_mean_squared_error: 0.1769\n",
      "Epoch 136/150\n",
      "1814/1814 [==============================] - 7s 4ms/step - loss: 0.1940 - mean_squared_error: 0.1940 - val_loss: 0.1763 - val_mean_squared_error: 0.1763\n",
      "Epoch 137/150\n",
      "1814/1814 [==============================] - 7s 4ms/step - loss: 0.1941 - mean_squared_error: 0.1941 - val_loss: 0.1762 - val_mean_squared_error: 0.1762\n",
      "Epoch 138/150\n",
      "1814/1814 [==============================] - 7s 4ms/step - loss: 0.1938 - mean_squared_error: 0.1938 - val_loss: 0.1759 - val_mean_squared_error: 0.1759\n",
      "Epoch 139/150\n",
      "1814/1814 [==============================] - 7s 4ms/step - loss: 0.1932 - mean_squared_error: 0.1932 - val_loss: 0.1756 - val_mean_squared_error: 0.1756\n",
      "Epoch 140/150\n",
      "1814/1814 [==============================] - 7s 4ms/step - loss: 0.1935 - mean_squared_error: 0.1935 - val_loss: 0.1753 - val_mean_squared_error: 0.1753\n",
      "Epoch 141/150\n",
      "1814/1814 [==============================] - 7s 4ms/step - loss: 0.1928 - mean_squared_error: 0.1928 - val_loss: 0.1755 - val_mean_squared_error: 0.1755\n",
      "Epoch 142/150\n",
      "1814/1814 [==============================] - 7s 4ms/step - loss: 0.1926 - mean_squared_error: 0.1926 - val_loss: 0.1763 - val_mean_squared_error: 0.1763\n",
      "Epoch 143/150\n",
      "1814/1814 [==============================] - 7s 4ms/step - loss: 0.1936 - mean_squared_error: 0.1936 - val_loss: 0.1784 - val_mean_squared_error: 0.1784\n",
      "Epoch 144/150\n",
      "1814/1814 [==============================] - 7s 4ms/step - loss: 0.1935 - mean_squared_error: 0.1935 - val_loss: 0.1758 - val_mean_squared_error: 0.1758\n",
      "Epoch 145/150\n",
      "1814/1814 [==============================] - 7s 4ms/step - loss: 0.1928 - mean_squared_error: 0.1928 - val_loss: 0.1758 - val_mean_squared_error: 0.1758\n",
      "Epoch 146/150\n",
      "1814/1814 [==============================] - 7s 4ms/step - loss: 0.1933 - mean_squared_error: 0.1933 - val_loss: 0.1757 - val_mean_squared_error: 0.1757\n",
      "Epoch 147/150\n",
      "1814/1814 [==============================] - 7s 4ms/step - loss: 0.1930 - mean_squared_error: 0.1930 - val_loss: 0.1755 - val_mean_squared_error: 0.1755\n",
      "Epoch 148/150\n",
      "1814/1814 [==============================] - 7s 4ms/step - loss: 0.1934 - mean_squared_error: 0.1934 - val_loss: 0.1755 - val_mean_squared_error: 0.1755\n",
      "Epoch 149/150\n",
      "1814/1814 [==============================] - 7s 4ms/step - loss: 0.1922 - mean_squared_error: 0.1922 - val_loss: 0.1771 - val_mean_squared_error: 0.1771\n",
      "Epoch 150/150\n",
      "1814/1814 [==============================] - 7s 4ms/step - loss: 0.1924 - mean_squared_error: 0.1924 - val_loss: 0.1751 - val_mean_squared_error: 0.1751\n"
     ]
    },
    {
     "data": {
      "text/plain": [
       "<keras.callbacks.History at 0x1961390c1c0>"
      ]
     },
     "execution_count": 28,
     "metadata": {},
     "output_type": "execute_result"
    }
   ],
   "source": [
    "nn200 = keras.models.load_model('models/nn200')\n",
    "nn200.fit(xTrain, yTrain, validation_split=0.2, epochs=150)"
   ]
  },
  {
   "cell_type": "code",
   "execution_count": 29,
   "metadata": {},
   "outputs": [
    {
     "name": "stdout",
     "output_type": "stream",
     "text": [
      "2267/2267 [==============================] - 5s 2ms/step\n",
      "0.645431098187407\n",
      "567/567 [==============================] - 1s 2ms/step\n"
     ]
    },
    {
     "data": {
      "text/plain": [
       "0.6369273068729506"
      ]
     },
     "execution_count": 29,
     "metadata": {},
     "output_type": "execute_result"
    }
   ],
   "source": [
    "print(r2_score(yTrain, nn200.predict(xTrain)))\n",
    "r2_score(yTest, nn200.predict(xTest))"
   ]
  },
  {
   "cell_type": "code",
   "execution_count": 30,
   "metadata": {},
   "outputs": [
    {
     "name": "stdout",
     "output_type": "stream",
     "text": [
      "INFO:tensorflow:Assets written to: models/nn200\\assets\n"
     ]
    }
   ],
   "source": [
    "nn200.save('models/nn200')"
   ]
  },
  {
   "attachments": {},
   "cell_type": "markdown",
   "metadata": {},
   "source": [
    "After some hyperparameters tuning we find that One hidden layer with 200 neurans gave the best result.\n",
    "\n",
    "Now we will move to the next stage (model evaluation) to compare between our models results and chose the best one."
   ]
  }
 ],
 "metadata": {
  "kernelspec": {
   "display_name": "base",
   "language": "python",
   "name": "python3"
  },
  "language_info": {
   "codemirror_mode": {
    "name": "ipython",
    "version": 3
   },
   "file_extension": ".py",
   "mimetype": "text/x-python",
   "name": "python",
   "nbconvert_exporter": "python",
   "pygments_lexer": "ipython3",
   "version": "3.9.7"
  },
  "orig_nbformat": 4,
  "vscode": {
   "interpreter": {
    "hash": "a90aeebcf29d64a654773811cc170cb25061cb2498f10ac689db374c7bf325de"
   }
  }
 },
 "nbformat": 4,
 "nbformat_minor": 2
}
